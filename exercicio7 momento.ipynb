{
 "cells": [
  {
   "cell_type": "code",
   "execution_count": 3,
   "metadata": {
    "collapsed": false
   },
   "outputs": [
   ],
   "source": [
    "%display latex"
   ]
  },
  {
   "cell_type": "code",
   "execution_count": 4,
   "metadata": {
    "collapsed": false
   },
   "outputs": [
    {
     "data": {
      "text/html": [
       "<html>\\(\\displaystyle \\left(M,(t, r, {\\theta}, {\\phi})\\right)\\)</html>"
      ],
      "text/latex": [
       "$\\displaystyle \\left(M,(t, r, {\\theta}, {\\phi})\\right)$"
      ],
      "text/plain": [
       "Chart (M, (t, r, th, ph))"
      ]
     },
     "execution_count": 4,
     "metadata": {
     },
     "output_type": "execute_result"
    }
   ],
   "source": [
    "M = Manifold(4, 'M', structure='Lorentzian')\n",
    "#corrds = M.chart(r\" t r:(0,+oo) th:(0,pi):\\theta ph:(0,2*pi):\\phi\")\n",
    "coords.<t, r, th, ph> = M.chart(r\" t r:(0,+oo) th:(0,pi):\\theta ph:(0,2*pi):\\phi\")\n",
    "coords"
   ]
  },
  {
   "cell_type": "code",
   "execution_count": 5,
   "metadata": {
    "collapsed": false
   },
   "outputs": [
    {
     "data": {
      "text/html": [
       "<html>\\(\\displaystyle \\left(r, t, \\lambda\\left(r, t\\right), \\mu\\left(r, t\\right)\\right)\\)</html>"
      ],
      "text/latex": [
       "$\\displaystyle \\left(r, t, \\lambda\\left(r, t\\right), \\mu\\left(r, t\\right)\\right)$"
      ],
      "text/plain": [
       "(r, t, lambda_(r, t), mu(r, t))"
      ]
     },
     "execution_count": 5,
     "metadata": {
     },
     "output_type": "execute_result"
    }
   ],
   "source": [
    "var('r t')\n",
    "lambda_ = function('lambda_')(r, t)\n",
    "mu = function('mu')(r, t)\n",
    "r, t, lambda_, mu"
   ]
  },
  {
   "cell_type": "code",
   "execution_count": 6,
   "metadata": {
    "collapsed": false
   },
   "outputs": [
    {
     "data": {
      "text/html": [
       "<html>\\(\\displaystyle g = -e^{\\left(\\lambda\\left(r, t\\right)\\right)} \\mathrm{d} t\\otimes \\mathrm{d} t + e^{\\left(\\mu\\left(r, t\\right)\\right)} \\mathrm{d} r\\otimes \\mathrm{d} r + r^{2} \\mathrm{d} {\\theta}\\otimes \\mathrm{d} {\\theta} + r^{2} \\sin\\left({\\theta}\\right)^{2} \\mathrm{d} {\\phi}\\otimes \\mathrm{d} {\\phi}\\)</html>"
      ],
      "text/latex": [
       "$\\displaystyle g = -e^{\\left(\\lambda\\left(r, t\\right)\\right)} \\mathrm{d} t\\otimes \\mathrm{d} t + e^{\\left(\\mu\\left(r, t\\right)\\right)} \\mathrm{d} r\\otimes \\mathrm{d} r + r^{2} \\mathrm{d} {\\theta}\\otimes \\mathrm{d} {\\theta} + r^{2} \\sin\\left({\\theta}\\right)^{2} \\mathrm{d} {\\phi}\\otimes \\mathrm{d} {\\phi}$"
      ],
      "text/plain": [
       "g = -e^(lambda_(r, t)) dt⊗dt + e^(mu(r, t)) dr⊗dr + r^2 dth⊗dth + r^2*sin(th)^2 dph⊗dph"
      ]
     },
     "execution_count": 6,
     "metadata": {
     },
     "output_type": "execute_result"
    }
   ],
   "source": [
    "g = M.metric()\n",
    "g[0,0] = -exp(lambda_)\n",
    "g[1,1] = exp(mu)\n",
    "g[2,2] = r^2\n",
    "g[3,3] = r^2*sin(th)^2\n",
    "g.display()"
   ]
  },
  {
   "cell_type": "code",
   "execution_count": 7,
   "metadata": {
    "collapsed": false
   },
   "outputs": [
    {
     "data": {
      "text/html": [
       "<html>\\(\\displaystyle \\left(\\begin{array}{rrrr}\n",
       "-e^{\\left(\\lambda\\left(r, t\\right)\\right)} & 0 & 0 & 0 \\\\\n",
       "0 & e^{\\left(\\mu\\left(r, t\\right)\\right)} & 0 & 0 \\\\\n",
       "0 & 0 & r^{2} & 0 \\\\\n",
       "0 & 0 & 0 & r^{2} \\sin\\left({\\theta}\\right)^{2}\n",
       "\\end{array}\\right)\\)</html>"
      ],
      "text/latex": [
       "$\\displaystyle \\left(\\begin{array}{rrrr}\n",
       "-e^{\\left(\\lambda\\left(r, t\\right)\\right)} & 0 & 0 & 0 \\\\\n",
       "0 & e^{\\left(\\mu\\left(r, t\\right)\\right)} & 0 & 0 \\\\\n",
       "0 & 0 & r^{2} & 0 \\\\\n",
       "0 & 0 & 0 & r^{2} \\sin\\left({\\theta}\\right)^{2}\n",
       "\\end{array}\\right)$"
      ],
      "text/plain": [
       "[-e^(lambda_(r, t))                  0                  0                  0]\n",
       "[                 0       e^(mu(r, t))                  0                  0]\n",
       "[                 0                  0                r^2                  0]\n",
       "[                 0                  0                  0      r^2*sin(th)^2]"
      ]
     },
     "execution_count": 7,
     "metadata": {
     },
     "output_type": "execute_result"
    }
   ],
   "source": [
    "g[:]"
   ]
  },
  {
   "cell_type": "code",
   "execution_count": 48,
   "metadata": {
    "collapsed": false
   },
   "outputs": [
    {
     "data": {
      "text/html": [
       "<html>\\(\\displaystyle u = e^{\\left(-\\lambda\\left(r, t\\right)\\right)} \\frac{\\partial}{\\partial t }\\)</html>"
      ],
      "text/latex": [
       "$\\displaystyle u = e^{\\left(-\\lambda\\left(r, t\\right)\\right)} \\frac{\\partial}{\\partial t }$"
      ],
      "text/plain": [
       "u = e^(-lambda_(r, t)) ∂/∂t"
      ]
     },
     "execution_count": 48,
     "metadata": {
     },
     "output_type": "execute_result"
    }
   ],
   "source": [
    "u = M.vector_field('u')\n",
    "u[0] = exp(-lambda_)\n",
    "u.display()"
   ]
  },
  {
   "cell_type": "code",
   "execution_count": 49,
   "metadata": {
    "collapsed": false
   },
   "outputs": [
    {
     "data": {
      "text/html": [
       "<html>\\(\\displaystyle g\\left(u,u\\right)\\)</html>"
      ],
      "text/latex": [
       "$\\displaystyle g\\left(u,u\\right)$"
      ],
      "text/plain": [
       "Scalar field g(u,u) on the 4-dimensional Lorentzian manifold M"
      ]
     },
     "execution_count": 49,
     "metadata": {
     },
     "output_type": "execute_result"
    }
   ],
   "source": [
    "g(u,u)"
   ]
  },
  {
   "cell_type": "code",
   "execution_count": 50,
   "metadata": {
    "collapsed": false
   },
   "outputs": [
    {
     "data": {
      "text/html": [
       "<html>\\(\\displaystyle u = e^{\\left(-\\lambda\\left(r, t\\right)\\right)} \\frac{\\partial}{\\partial t }\\)</html>"
      ],
      "text/latex": [
       "$\\displaystyle u = e^{\\left(-\\lambda\\left(r, t\\right)\\right)} \\frac{\\partial}{\\partial t }$"
      ],
      "text/plain": [
       "u = e^(-lambda_(r, t)) ∂/∂t"
      ]
     },
     "execution_count": 50,
     "metadata": {
     },
     "output_type": "execute_result"
    }
   ],
   "source": [
    "u.display()"
   ]
  },
  {
   "cell_type": "code",
   "execution_count": 51,
   "metadata": {
    "collapsed": false
   },
   "outputs": [
    {
     "data": {
      "text/html": [
       "<html>\\(\\displaystyle \\left[e^{\\left(-\\lambda\\left(r, t\\right)\\right)}, 0, 0, 0\\right]\\)</html>"
      ],
      "text/latex": [
       "$\\displaystyle \\left[e^{\\left(-\\lambda\\left(r, t\\right)\\right)}, 0, 0, 0\\right]$"
      ],
      "text/plain": [
       "[e^(-lambda_(r, t)), 0, 0, 0]"
      ]
     },
     "execution_count": 51,
     "metadata": {
     },
     "output_type": "execute_result"
    }
   ],
   "source": [
    "u[:]"
   ]
  },
  {
   "cell_type": "code",
   "execution_count": 52,
   "metadata": {
    "collapsed": false
   },
   "outputs": [
    {
     "data": {
      "text/html": [
       "<html>\\(\\displaystyle \\begin{array}{llcl} g\\left(u,u\\right):& M & \\longrightarrow & \\mathbb{R} \\\\ & \\left(t, r, {\\theta}, {\\phi}\\right) & \\longmapsto & -e^{\\left(-\\lambda\\left(r, t\\right)\\right)} \\end{array}\\)</html>"
      ],
      "text/latex": [
       "$\\displaystyle \\begin{array}{llcl} g\\left(u,u\\right):& M & \\longrightarrow & \\mathbb{R} \\\\ & \\left(t, r, {\\theta}, {\\phi}\\right) & \\longmapsto & -e^{\\left(-\\lambda\\left(r, t\\right)\\right)} \\end{array}$"
      ],
      "text/plain": [
       "g(u,u): M → ℝ\n",
       "   (t, r, th, ph) ↦ -e^(-lambda_(r, t))"
      ]
     },
     "execution_count": 52,
     "metadata": {
     },
     "output_type": "execute_result"
    }
   ],
   "source": [
    "g(u,u).display()"
   ]
  },
  {
   "cell_type": "code",
   "execution_count": 45,
   "metadata": {
    "collapsed": false
   },
   "outputs": [
    {
     "data": {
      "text/html": [
       "<html>\\(\\displaystyle -e^{\\left(2 \\, \\lambda\\left(r, t\\right)\\right)} \\mathrm{d} t\\)</html>"
      ],
      "text/latex": [
       "$\\displaystyle -e^{\\left(2 \\, \\lambda\\left(r, t\\right)\\right)} \\mathrm{d} t$"
      ],
      "text/plain": [
       "-e^(2*lambda_(r, t)) dt"
      ]
     },
     "execution_count": 45,
     "metadata": {
     },
     "output_type": "execute_result"
    }
   ],
   "source": [
    "u_form = u.down(g)\n",
    "u_form.display()"
   ]
  },
  {
   "cell_type": "code",
   "execution_count": 46,
   "metadata": {
    "collapsed": false
   },
   "outputs": [
    {
     "data": {
      "text/html": [
       "<html>\\(\\displaystyle T = \\left( {\\left(e^{\\left(4 \\, \\lambda\\left(r, t\\right)\\right)} - e^{\\left(\\lambda\\left(r, t\\right)\\right)}\\right)} p\\left(r\\right) + e^{\\left(4 \\, \\lambda\\left(r, t\\right)\\right)} \\rho\\left(r\\right) \\right) \\mathrm{d} t\\otimes \\mathrm{d} t + e^{\\left(\\mu\\left(r, t\\right)\\right)} p\\left(r\\right) \\mathrm{d} r\\otimes \\mathrm{d} r + r^{2} p\\left(r\\right) \\mathrm{d} {\\theta}\\otimes \\mathrm{d} {\\theta} + r^{2} p\\left(r\\right) \\sin\\left({\\theta}\\right)^{2} \\mathrm{d} {\\phi}\\otimes \\mathrm{d} {\\phi}\\)</html>"
      ],
      "text/latex": [
       "$\\displaystyle T = \\left( {\\left(e^{\\left(4 \\, \\lambda\\left(r, t\\right)\\right)} - e^{\\left(\\lambda\\left(r, t\\right)\\right)}\\right)} p\\left(r\\right) + e^{\\left(4 \\, \\lambda\\left(r, t\\right)\\right)} \\rho\\left(r\\right) \\right) \\mathrm{d} t\\otimes \\mathrm{d} t + e^{\\left(\\mu\\left(r, t\\right)\\right)} p\\left(r\\right) \\mathrm{d} r\\otimes \\mathrm{d} r + r^{2} p\\left(r\\right) \\mathrm{d} {\\theta}\\otimes \\mathrm{d} {\\theta} + r^{2} p\\left(r\\right) \\sin\\left({\\theta}\\right)^{2} \\mathrm{d} {\\phi}\\otimes \\mathrm{d} {\\phi}$"
      ],
      "text/plain": [
       "T = ((e^(4*lambda_(r, t)) - e^(lambda_(r, t)))*p(r) + e^(4*lambda_(r, t))*rho(r)) dt⊗dt + e^(mu(r, t))*p(r) dr⊗dr + r^2*p(r) dth⊗dth + r^2*p(r)*sin(th)^2 dph⊗dph"
      ]
     },
     "execution_count": 46,
     "metadata": {
     },
     "output_type": "execute_result"
    }
   ],
   "source": [
    "rho = function('rho')\n",
    "p = function ('p')\n",
    "T = (rho(r)+p(r))*(u_form * u_form) +p(r) * g\n",
    "T.set_name('T')\n",
    "T.display()"
   ]
  },
  {
   "cell_type": "code",
   "execution_count": 47,
   "metadata": {
    "collapsed": false
   },
   "outputs": [
    {
     "data": {
      "text/html": [
       "<html>\\(\\displaystyle \\begin{array}{llcl} T\\left(u,u\\right):& M & \\longrightarrow & \\mathbb{R} \\\\ & \\left(t, r, {\\theta}, {\\phi}\\right) & \\longmapsto & {\\left(e^{\\left(6 \\, \\lambda\\left(r, t\\right)\\right)} - e^{\\left(3 \\, \\lambda\\left(r, t\\right)\\right)}\\right)} p\\left(r\\right) + e^{\\left(6 \\, \\lambda\\left(r, t\\right)\\right)} \\rho\\left(r\\right) \\end{array}\\)</html>"
      ],
      "text/latex": [
       "$\\displaystyle \\begin{array}{llcl} T\\left(u,u\\right):& M & \\longrightarrow & \\mathbb{R} \\\\ & \\left(t, r, {\\theta}, {\\phi}\\right) & \\longmapsto & {\\left(e^{\\left(6 \\, \\lambda\\left(r, t\\right)\\right)} - e^{\\left(3 \\, \\lambda\\left(r, t\\right)\\right)}\\right)} p\\left(r\\right) + e^{\\left(6 \\, \\lambda\\left(r, t\\right)\\right)} \\rho\\left(r\\right) \\end{array}$"
      ],
      "text/plain": [
       "T(u,u): M → ℝ\n",
       "   (t, r, th, ph) ↦ (e^(6*lambda_(r, t)) - e^(3*lambda_(r, t)))*p(r) + e^(6*lambda_(r, t))*rho(r)"
      ]
     },
     "execution_count": 47,
     "metadata": {
     },
     "output_type": "execute_result"
    }
   ],
   "source": [
    "T(u,u).display()"
   ]
  },
  {
   "cell_type": "code",
   "execution_count": 0,
   "metadata": {
    "collapsed": false
   },
   "outputs": [
   ],
   "source": [
   ]
  },
  {
   "cell_type": "code",
   "execution_count": 0,
   "metadata": {
    "collapsed": false
   },
   "outputs": [
   ],
   "source": [
   ]
  },
  {
   "cell_type": "code",
   "execution_count": 0,
   "metadata": {
    "collapsed": false
   },
   "outputs": [
   ],
   "source": [
   ]
  },
  {
   "cell_type": "code",
   "execution_count": 0,
   "metadata": {
    "collapsed": false
   },
   "outputs": [
   ],
   "source": [
   ]
  },
  {
   "cell_type": "code",
   "execution_count": 0,
   "metadata": {
    "collapsed": false
   },
   "outputs": [
   ],
   "source": [
   ]
  }
 ],
 "metadata": {
  "kernelspec": {
   "argv": [
    "sage-10.1",
    "--python",
    "-m",
    "sage.repl.ipython_kernel",
    "--matplotlib=inline",
    "-f",
    "{connection_file}"
   ],
   "display_name": "SageMath 10.1",
   "env": {
   },
   "language": "sagemath",
   "metadata": {
    "cocalc": {
     "description": "Open-source mathematical software system",
     "priority": 10,
     "url": "https://www.sagemath.org/"
    }
   },
   "name": "sage-10.1",
   "resource_dir": "/ext/jupyter/kernels/sage-10.1"
  }
 },
 "nbformat": 4,
 "nbformat_minor": 4
}