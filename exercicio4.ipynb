{
 "cells": [
  {
   "cell_type": "markdown",
   "metadata": {
    "collapsed": false
   },
   "source": [
    "## Exercicio 4"
   ]
  },
  {
   "cell_type": "code",
   "execution_count": 4,
   "metadata": {
    "collapsed": false
   },
   "outputs": [
   ],
   "source": [
    "%display latex"
   ]
  },
  {
   "cell_type": "code",
   "execution_count": 5,
   "metadata": {
    "collapsed": false
   },
   "outputs": [
    {
     "data": {
      "text/html": [
       "<html>\\(\\displaystyle \\left(M,(t, x, y, z)\\right)\\)</html>"
      ],
      "text/latex": [
       "$\\displaystyle \\left(M,(t, x, y, z)\\right)$"
      ],
      "text/plain": [
       "Chart (M, (t, x, y, z))"
      ]
     },
     "execution_count": 5,
     "metadata": {
     },
     "output_type": "execute_result"
    }
   ],
   "source": [
    "M = Manifold(4, 'M', structure='Lorentzian')\n",
    "coord = M.chart('t x y z', names='(t,x,y,z)')\n",
    "var('t')\n",
    "a = function('a')(t)\n",
    "coord"
   ]
  },
  {
   "cell_type": "code",
   "execution_count": 6,
   "metadata": {
    "collapsed": false
   },
   "outputs": [
    {
     "data": {
      "text/html": [
       "<html>\\(\\displaystyle g = -\\mathrm{d} t\\otimes \\mathrm{d} t + a\\left(t\\right)^{2} \\mathrm{d} x\\otimes \\mathrm{d} x + a\\left(t\\right)^{2} \\mathrm{d} y\\otimes \\mathrm{d} y + a\\left(t\\right)^{2} \\mathrm{d} z\\otimes \\mathrm{d} z\\)</html>"
      ],
      "text/latex": [
       "$\\displaystyle g = -\\mathrm{d} t\\otimes \\mathrm{d} t + a\\left(t\\right)^{2} \\mathrm{d} x\\otimes \\mathrm{d} x + a\\left(t\\right)^{2} \\mathrm{d} y\\otimes \\mathrm{d} y + a\\left(t\\right)^{2} \\mathrm{d} z\\otimes \\mathrm{d} z$"
      ],
      "text/plain": [
       "g = -dt⊗dt + a(t)^2 dx⊗dx + a(t)^2 dy⊗dy + a(t)^2 dz⊗dz"
      ]
     },
     "execution_count": 6,
     "metadata": {
     },
     "output_type": "execute_result"
    }
   ],
   "source": [
    "g = M.metric()\n",
    "g[0,0] = -1\n",
    "g[1,1] = a^2\n",
    "g[2,2] = a^2\n",
    "g[3,3] = a^2\n",
    "g.display()"
   ]
  },
  {
   "cell_type": "code",
   "execution_count": 7,
   "metadata": {
    "collapsed": false
   },
   "outputs": [
    {
     "data": {
      "text/html": [
       "<html>\\(\\displaystyle \\left(\\begin{array}{rrrr}\n",
       "-1 & 0 & 0 & 0 \\\\\n",
       "0 & a\\left(t\\right)^{2} & 0 & 0 \\\\\n",
       "0 & 0 & a\\left(t\\right)^{2} & 0 \\\\\n",
       "0 & 0 & 0 & a\\left(t\\right)^{2}\n",
       "\\end{array}\\right)\\)</html>"
      ],
      "text/latex": [
       "$\\displaystyle \\left(\\begin{array}{rrrr}\n",
       "-1 & 0 & 0 & 0 \\\\\n",
       "0 & a\\left(t\\right)^{2} & 0 & 0 \\\\\n",
       "0 & 0 & a\\left(t\\right)^{2} & 0 \\\\\n",
       "0 & 0 & 0 & a\\left(t\\right)^{2}\n",
       "\\end{array}\\right)$"
      ],
      "text/plain": [
       "[    -1      0      0      0]\n",
       "[     0 a(t)^2      0      0]\n",
       "[     0      0 a(t)^2      0]\n",
       "[     0      0      0 a(t)^2]"
      ]
     },
     "execution_count": 7,
     "metadata": {
     },
     "output_type": "execute_result"
    }
   ],
   "source": [
    "g[:]"
   ]
  },
  {
   "cell_type": "markdown",
   "metadata": {
    "collapsed": false
   },
   "source": [
    "Os símbolos 212 e 221, 313 e 331 e 323 e 332 são simétricos então na verdade são 9 símbolos, coordenadas (0=t,1=x,2=y,3=z)\n",
    "\n"
   ]
  },
  {
   "cell_type": "code",
   "execution_count": 8,
   "metadata": {
    "collapsed": false
   },
   "outputs": [
    {
     "data": {
      "text/html": [
       "<html>\\(\\displaystyle \\begin{array}{lcl} \\Gamma_{ \\phantom{\\, t} \\, x \\, x }^{ \\, t \\phantom{\\, x} \\phantom{\\, x} } & = & a\\left(t\\right) \\frac{\\partial\\,a}{\\partial t} \\\\ \\Gamma_{ \\phantom{\\, t} \\, y \\, y }^{ \\, t \\phantom{\\, y} \\phantom{\\, y} } & = & a\\left(t\\right) \\frac{\\partial\\,a}{\\partial t} \\\\ \\Gamma_{ \\phantom{\\, t} \\, z \\, z }^{ \\, t \\phantom{\\, z} \\phantom{\\, z} } & = & a\\left(t\\right) \\frac{\\partial\\,a}{\\partial t} \\\\ \\Gamma_{ \\phantom{\\, x} \\, t \\, x }^{ \\, x \\phantom{\\, t} \\phantom{\\, x} } & = & \\frac{\\frac{\\partial\\,a}{\\partial t}}{a\\left(t\\right)} \\\\ \\Gamma_{ \\phantom{\\, y} \\, t \\, y }^{ \\, y \\phantom{\\, t} \\phantom{\\, y} } & = & \\frac{\\frac{\\partial\\,a}{\\partial t}}{a\\left(t\\right)} \\\\ \\Gamma_{ \\phantom{\\, z} \\, t \\, z }^{ \\, z \\phantom{\\, t} \\phantom{\\, z} } & = & \\frac{\\frac{\\partial\\,a}{\\partial t}}{a\\left(t\\right)} \\end{array}\\)</html>"
      ],
      "text/latex": [
       "$\\displaystyle \\begin{array}{lcl} \\Gamma_{ \\phantom{\\, t} \\, x \\, x }^{ \\, t \\phantom{\\, x} \\phantom{\\, x} } & = & a\\left(t\\right) \\frac{\\partial\\,a}{\\partial t} \\\\ \\Gamma_{ \\phantom{\\, t} \\, y \\, y }^{ \\, t \\phantom{\\, y} \\phantom{\\, y} } & = & a\\left(t\\right) \\frac{\\partial\\,a}{\\partial t} \\\\ \\Gamma_{ \\phantom{\\, t} \\, z \\, z }^{ \\, t \\phantom{\\, z} \\phantom{\\, z} } & = & a\\left(t\\right) \\frac{\\partial\\,a}{\\partial t} \\\\ \\Gamma_{ \\phantom{\\, x} \\, t \\, x }^{ \\, x \\phantom{\\, t} \\phantom{\\, x} } & = & \\frac{\\frac{\\partial\\,a}{\\partial t}}{a\\left(t\\right)} \\\\ \\Gamma_{ \\phantom{\\, y} \\, t \\, y }^{ \\, y \\phantom{\\, t} \\phantom{\\, y} } & = & \\frac{\\frac{\\partial\\,a}{\\partial t}}{a\\left(t\\right)} \\\\ \\Gamma_{ \\phantom{\\, z} \\, t \\, z }^{ \\, z \\phantom{\\, t} \\phantom{\\, z} } & = & \\frac{\\frac{\\partial\\,a}{\\partial t}}{a\\left(t\\right)} \\end{array}$"
      ],
      "text/plain": [
       "Gam^t_xx = a(t)*d(a)/dt \n",
       "Gam^t_yy = a(t)*d(a)/dt \n",
       "Gam^t_zz = a(t)*d(a)/dt \n",
       "Gam^x_tx = d(a)/dt/a(t) \n",
       "Gam^y_ty = d(a)/dt/a(t) \n",
       "Gam^z_tz = d(a)/dt/a(t) "
      ]
     },
     "execution_count": 8,
     "metadata": {
     },
     "output_type": "execute_result"
    }
   ],
   "source": [
    "christoffel_symbols = g.christoffel_symbols_display()\n",
    "christoffel_symbols"
   ]
  },
  {
   "cell_type": "code",
   "execution_count": 0,
   "metadata": {
    "collapsed": false
   },
   "outputs": [
   ],
   "source": [
   ]
  },
  {
   "cell_type": "code",
   "execution_count": 0,
   "metadata": {
    "collapsed": false
   },
   "outputs": [
   ],
   "source": [
    "## Exercicio 4"
   ]
  },
  {
   "cell_type": "markdown",
   "metadata": {
    "collapsed": false
   },
   "source": [
   ]
  },
  {
   "cell_type": "code",
   "execution_count": 0,
   "metadata": {
    "collapsed": false
   },
   "outputs": [
   ],
   "source": [
   ]
  },
  {
   "cell_type": "code",
   "execution_count": 0,
   "metadata": {
    "collapsed": false
   },
   "outputs": [
   ],
   "source": [
   ]
  }
 ],
 "metadata": {
  "kernelspec": {
   "argv": [
    "sage-10.1",
    "--python",
    "-m",
    "sage.repl.ipython_kernel",
    "--matplotlib=inline",
    "-f",
    "{connection_file}"
   ],
   "display_name": "SageMath 10.1",
   "env": {
   },
   "language": "sagemath",
   "metadata": {
    "cocalc": {
     "description": "Open-source mathematical software system",
     "priority": 10,
     "url": "https://www.sagemath.org/"
    }
   },
   "name": "sage-10.1",
   "resource_dir": "/ext/jupyter/kernels/sage-10.1"
  }
 },
 "nbformat": 4,
 "nbformat_minor": 4
}