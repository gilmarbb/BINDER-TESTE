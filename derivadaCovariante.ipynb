{
 "cells": [
  {
   "cell_type": "code",
   "execution_count": 16,
   "metadata": {
    "collapsed": false
   },
   "outputs": [
   ],
   "source": [
    "%display latex\n",
    "# Passo 1: Definir a variedade\n",
    "M = Manifold(3, 'M')\n",
    "chart = M.chart('x y z')  # Sistema de coordenadas locais\n",
    "x, y, z = chart[:]"
   ]
  },
  {
   "cell_type": "code",
   "execution_count": 17,
   "metadata": {
    "collapsed": false
   },
   "outputs": [
    {
     "data": {
      "text/html": [
       "<html>\\(\\displaystyle V = -y \\frac{\\partial}{\\partial x } + x \\frac{\\partial}{\\partial y }\\)</html>"
      ],
      "text/latex": [
       "$\\displaystyle V = -y \\frac{\\partial}{\\partial x } + x \\frac{\\partial}{\\partial y }$"
      ],
      "text/plain": [
       "V = -y ∂/∂x + x ∂/∂y"
      ]
     },
     "execution_count": 17,
     "metadata": {
     },
     "output_type": "execute_result"
    }
   ],
   "source": [
    "# Passo 2: Especificar a métrica (opcional para este exemplo)\n",
    "g = M.metric('g')\n",
    "g[0,0], g[1,1], g[2,2] = 1, 1, 1  # Métrica Euclidiana para simplificar\n",
    "\n",
    "# Passo 3: Definir o campo vetorial\n",
    "V = M.vector_field(-y, x, 0, name='V')\n",
    "V.display()"
   ]
  },
  {
   "cell_type": "code",
   "execution_count": 18,
   "metadata": {
    "collapsed": false
   },
   "outputs": [
    {
     "data": {
      "text/html": [
       "<html>\\(\\displaystyle \\nabla_{g} V = -\\frac{\\partial}{\\partial x }\\otimes \\mathrm{d} y+\\frac{\\partial}{\\partial y }\\otimes \\mathrm{d} x\\)</html>"
      ],
      "text/latex": [
       "$\\displaystyle \\nabla_{g} V = -\\frac{\\partial}{\\partial x }\\otimes \\mathrm{d} y+\\frac{\\partial}{\\partial y }\\otimes \\mathrm{d} x$"
      ],
      "text/plain": [
       "nabla_g(V) = -∂/∂x⊗dy + ∂/∂y⊗dx"
      ]
     },
     "execution_count": 18,
     "metadata": {
     },
     "output_type": "execute_result"
    }
   ],
   "source": [
    "# Passo 4: Calcular a derivada covariante\n",
    "nabla = g.connection()  # Conexão de Levi-Civita da métrica g\n",
    "DV = nabla(V)  # Derivada covariante de V\n",
    "DV.display()"
   ]
  },
  {
   "cell_type": "code",
   "execution_count": 22,
   "metadata": {
    "collapsed": false
   },
   "outputs": [
    {
     "ename": "TypeError",
     "evalue": "DifferentiableManifold.metric() missing 1 required positional argument: 'name'",
     "output_type": "error",
     "traceback": [
      "\u001b[0;31m---------------------------------------------------------------------------\u001b[0m",
      "\u001b[0;31mTypeError\u001b[0m                                 Traceback (most recent call last)",
      "Cell \u001b[0;32mIn [22], line 1\u001b[0m\n\u001b[0;32m----> 1\u001b[0m g \u001b[38;5;241m=\u001b[39m \u001b[43mM\u001b[49m\u001b[38;5;241;43m.\u001b[39;49m\u001b[43mmetric\u001b[49m\u001b[43m(\u001b[49m\u001b[43m)\u001b[49m\n\u001b[1;32m      2\u001b[0m g[Integer(\u001b[38;5;241m0\u001b[39m),Integer(\u001b[38;5;241m0\u001b[39m)], g[Integer(\u001b[38;5;241m1\u001b[39m),Integer(\u001b[38;5;241m1\u001b[39m)], g[Integer(\u001b[38;5;241m2\u001b[39m),Integer(\u001b[38;5;241m2\u001b[39m)] \u001b[38;5;241m=\u001b[39m Integer(\u001b[38;5;241m1\u001b[39m), r\u001b[38;5;241m*\u001b[39m\u001b[38;5;241m*\u001b[39mInteger(\u001b[38;5;241m2\u001b[39m), (r\u001b[38;5;241m*\u001b[39msin(th))\u001b[38;5;241m*\u001b[39m\u001b[38;5;241m*\u001b[39mInteger(\u001b[38;5;241m2\u001b[39m)\n\u001b[1;32m      4\u001b[0m \u001b[38;5;66;03m#g = M.metric('g')  # 'g' é o nome da métrica\u001b[39;00m\n\u001b[1;32m      5\u001b[0m \u001b[38;5;66;03m#g[0,0], g[1,1], g[2,2] = 1, r^2, (r*sin(th))^2\u001b[39;00m\n",
      "\u001b[0;31mTypeError\u001b[0m: DifferentiableManifold.metric() missing 1 required positional argument: 'name'"
     ]
    }
   ],
   "source": [
    "g = M.metric()\n",
    "g[0,0], g[1,1], g[2,2] = 1, r^2, (r*sin(th))^2\n",
    "\n",
    "#g = M.metric('g')  # 'g' é o nome da métrica\n",
    "#g[0,0], g[1,1], g[2,2] = 1, r^2, (r*sin(th))^2\n"
   ]
  },
  {
   "cell_type": "code",
   "execution_count": 23,
   "metadata": {
    "collapsed": false
   },
   "outputs": [
   ],
   "source": [
    "# Definir a variedade\n",
    "M = Manifold(3, 'M')\n",
    "\n",
    "# Definir as coordenadas\n",
    "X.<r,th,ph> = M.chart(r'r th:(0,pi):\\theta ph:(0,2*pi):\\phi')  # coordenadas esféricas\n",
    "\n",
    "# Definir a métrica com o nome 'g'\n",
    "g = M.metric('g')\n",
    "\n",
    "# Especificar os componentes da métrica\n",
    "g[0,0], g[1,1], g[2,2] = 1, r^2, (r*sin(th))^2\n"
   ]
  },
  {
   "cell_type": "code",
   "execution_count": 20,
   "metadata": {
    "collapsed": false
   },
   "outputs": [
    {
     "ename": "TypeError",
     "evalue": "unsupported operand type(s) for ** or pow(): 'R' and 'int'",
     "output_type": "error",
     "traceback": [
      "\u001b[0;31m---------------------------------------------------------------------------\u001b[0m",
      "\u001b[0;31mTypeError\u001b[0m                                 Traceback (most recent call last)",
      "Cell \u001b[0;32mIn [20], line 2\u001b[0m\n\u001b[1;32m      1\u001b[0m V \u001b[38;5;241m=\u001b[39m M\u001b[38;5;241m.\u001b[39mvector_field(name\u001b[38;5;241m=\u001b[39m\u001b[38;5;124m'\u001b[39m\u001b[38;5;124mV\u001b[39m\u001b[38;5;124m'\u001b[39m)\n\u001b[0;32m----> 2\u001b[0m V[Integer(\u001b[38;5;241m0\u001b[39m)], V[Integer(\u001b[38;5;241m1\u001b[39m)], V[Integer(\u001b[38;5;241m2\u001b[39m)] \u001b[38;5;241m=\u001b[39m \u001b[43mr\u001b[49m\u001b[38;5;241;43m*\u001b[39;49m\u001b[38;5;241;43m*\u001b[39;49m\u001b[43mInteger\u001b[49m\u001b[43m(\u001b[49m\u001b[38;5;241;43m2\u001b[39;49m\u001b[43m)\u001b[49m, cos(th), sin(ph)\n\u001b[1;32m      3\u001b[0m V\u001b[38;5;241m.\u001b[39mdisplay()\n",
      "File \u001b[0;32m/ext/sage/10.1/src/sage/misc/lazy_import.pyx:715\u001b[0m, in \u001b[0;36msage.misc.lazy_import.LazyImport.__pow__\u001b[0;34m()\u001b[0m\n\u001b[1;32m    713\u001b[0m         100\n\u001b[1;32m    714\u001b[0m     \"\"\"\n\u001b[0;32m--> 715\u001b[0m     return PyNumber_Power(obj(left), obj(right), obj(mod))\n\u001b[1;32m    716\u001b[0m \n\u001b[1;32m    717\u001b[0m def __mod__(left, right):\n",
      "File \u001b[0;32m/ext/sage/10.1/src/sage/rings/integer.pyx:2188\u001b[0m, in \u001b[0;36msage.rings.integer.Integer.__pow__\u001b[0;34m()\u001b[0m\n\u001b[1;32m   2186\u001b[0m         return coercion_model.bin_op(left, right, operator.pow)\n\u001b[1;32m   2187\u001b[0m     # left is a non-Element: do the powering with a Python int\n\u001b[0;32m-> 2188\u001b[0m     return left ** int(right)\n\u001b[1;32m   2189\u001b[0m \n\u001b[1;32m   2190\u001b[0m cpdef _pow_(self, other):\n",
      "\u001b[0;31mTypeError\u001b[0m: unsupported operand type(s) for ** or pow(): 'R' and 'int'"
     ]
    }
   ],
   "source": [
    "V = M.vector_field(name='V')\n",
    "V[0], V[1], V[2] = r^2, cos(th), sin(ph)\n",
    "V.display()\n"
   ]
  },
  {
   "cell_type": "code",
   "execution_count": 21,
   "metadata": {
    "collapsed": false
   },
   "outputs": [
    {
     "ename": "ValueError",
     "evalue": "no common frame found for the computation",
     "output_type": "error",
     "traceback": [
      "\u001b[0;31m---------------------------------------------------------------------------\u001b[0m",
      "\u001b[0;31mValueError\u001b[0m                                Traceback (most recent call last)",
      "Cell \u001b[0;32mIn [21], line 2\u001b[0m\n\u001b[1;32m      1\u001b[0m nabla \u001b[38;5;241m=\u001b[39m g\u001b[38;5;241m.\u001b[39mconnection()  \u001b[38;5;66;03m# Conexão de Levi-Civita\u001b[39;00m\n\u001b[0;32m----> 2\u001b[0m DV \u001b[38;5;241m=\u001b[39m \u001b[43mnabla\u001b[49m\u001b[43m(\u001b[49m\u001b[43mV\u001b[49m\u001b[43m)\u001b[49m  \u001b[38;5;66;03m# Derivada covariante de V\u001b[39;00m\n\u001b[1;32m      3\u001b[0m DV\u001b[38;5;241m.\u001b[39mdisplay()\n",
      "File \u001b[0;32m/ext/sage/10.1/src/sage/manifolds/differentiable/affine_connection.py:1548\u001b[0m, in \u001b[0;36mAffineConnection.__call__\u001b[0;34m(self, tensor)\u001b[0m\n\u001b[1;32m   1546\u001b[0m     \u001b[38;5;28;01mreturn\u001b[39;00m tensor_r\u001b[38;5;241m.\u001b[39mdifferential()\n\u001b[1;32m   1547\u001b[0m \u001b[38;5;28;01mif\u001b[39;00m \u001b[38;5;28misinstance\u001b[39m(tensor_r, TensorFieldParal):\n\u001b[0;32m-> 1548\u001b[0m     \u001b[38;5;28;01mreturn\u001b[39;00m \u001b[38;5;28;43mself\u001b[39;49m\u001b[38;5;241;43m.\u001b[39;49m\u001b[43m_derive_paral\u001b[49m\u001b[43m(\u001b[49m\u001b[43mtensor_r\u001b[49m\u001b[43m)\u001b[49m\n\u001b[1;32m   1549\u001b[0m resu_rst \u001b[38;5;241m=\u001b[39m []\n\u001b[1;32m   1550\u001b[0m \u001b[38;5;28;01mfor\u001b[39;00m dom, rst \u001b[38;5;129;01min\u001b[39;00m tensor_r\u001b[38;5;241m.\u001b[39m_restrictions\u001b[38;5;241m.\u001b[39mitems():\n\u001b[1;32m   1551\u001b[0m     \u001b[38;5;66;03m# the computation is performed only if dom is not a subdomain\u001b[39;00m\n\u001b[1;32m   1552\u001b[0m     \u001b[38;5;66;03m# of another restriction:\u001b[39;00m\n",
      "File \u001b[0;32m/ext/sage/10.1/src/sage/manifolds/differentiable/affine_connection.py:1611\u001b[0m, in \u001b[0;36mAffineConnection._derive_paral\u001b[0;34m(self, tensor)\u001b[0m\n\u001b[1;32m   1609\u001b[0m frame \u001b[38;5;241m=\u001b[39m \u001b[38;5;28mself\u001b[39m\u001b[38;5;241m.\u001b[39m_common_frame(tensor)\n\u001b[1;32m   1610\u001b[0m \u001b[38;5;28;01mif\u001b[39;00m frame \u001b[38;5;129;01mis\u001b[39;00m \u001b[38;5;28;01mNone\u001b[39;00m:\n\u001b[0;32m-> 1611\u001b[0m     \u001b[38;5;28;01mraise\u001b[39;00m \u001b[38;5;167;01mValueError\u001b[39;00m(\u001b[38;5;124m\"\u001b[39m\u001b[38;5;124mno common frame found for the computation\u001b[39m\u001b[38;5;124m\"\u001b[39m)\n\u001b[1;32m   1612\u001b[0m \u001b[38;5;66;03m# Component computation in the common frame:\u001b[39;00m\n\u001b[1;32m   1613\u001b[0m tc \u001b[38;5;241m=\u001b[39m tensor\u001b[38;5;241m.\u001b[39m_components[frame]\n",
      "\u001b[0;31mValueError\u001b[0m: no common frame found for the computation"
     ]
    }
   ],
   "source": [
    "nabla = g.connection()  # Conexão de Levi-Civita\n",
    "DV = nabla(V)  # Derivada covariante de V\n",
    "DV.display()\n"
   ]
  },
  {
   "cell_type": "code",
   "execution_count": 0,
   "metadata": {
    "collapsed": false
   },
   "outputs": [
   ],
   "source": [
   ]
  }
 ],
 "metadata": {
  "kernelspec": {
   "argv": [
    "sage-10.1",
    "--python",
    "-m",
    "sage.repl.ipython_kernel",
    "--matplotlib=inline",
    "-f",
    "{connection_file}"
   ],
   "display_name": "SageMath 10.1",
   "env": {
   },
   "language": "sagemath",
   "metadata": {
    "cocalc": {
     "description": "Open-source mathematical software system",
     "priority": 10,
     "url": "https://www.sagemath.org/"
    }
   },
   "name": "sage-10.1",
   "resource_dir": "/ext/jupyter/kernels/sage-10.1"
  },
  "language_info": {
   "codemirror_mode": {
    "name": "ipython",
    "version": 3
   },
   "file_extension": ".py",
   "mimetype": "text/x-python",
   "name": "python",
   "nbconvert_exporter": "python",
   "pygments_lexer": "ipython3",
   "version": "3.11.1"
  }
 },
 "nbformat": 4,
 "nbformat_minor": 4
}