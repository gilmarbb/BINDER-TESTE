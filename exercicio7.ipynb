{
 "cells": [
  {
   "cell_type": "code",
   "execution_count": 3,
   "metadata": {
    "collapsed": false
   },
   "outputs": [
   ],
   "source": [
   ]
  },
  {
   "cell_type": "markdown",
   "metadata": {
    "collapsed": false
   },
   "source": [
    "## Exercicio 7"
   ]
  },
  {
   "cell_type": "code",
   "execution_count": 3,
   "metadata": {
    "collapsed": false
   },
   "outputs": [
   ],
   "source": [
    "%display latex"
   ]
  },
  {
   "cell_type": "code",
   "execution_count": 4,
   "metadata": {
    "collapsed": false
   },
   "outputs": [
    {
     "data": {
      "text/html": [
       "<html>\\(\\displaystyle \\left(M,(t, r, {\\theta}, {\\phi})\\right)\\)</html>"
      ],
      "text/latex": [
       "$\\displaystyle \\left(M,(t, r, {\\theta}, {\\phi})\\right)$"
      ],
      "text/plain": [
       "Chart (M, (t, r, th, ph))"
      ]
     },
     "execution_count": 4,
     "metadata": {
     },
     "output_type": "execute_result"
    }
   ],
   "source": [
    "M = Manifold(4, 'M', structure='Lorentzian')\n",
    "#corrds = M.chart(r\" t r:(0,+oo) th:(0,pi):\\theta ph:(0,2*pi):\\phi\")\n",
    "coords.<t, r, th, ph> = M.chart(r\" t r:(0,+oo) th:(0,pi):\\theta ph:(0,2*pi):\\phi\")\n",
    "coords"
   ]
  },
  {
   "cell_type": "code",
   "execution_count": 5,
   "metadata": {
    "collapsed": false
   },
   "outputs": [
    {
     "data": {
      "text/html": [
       "<html>\\(\\displaystyle \\left(r, t, \\lambda\\left(r, t\\right), \\mu\\left(r, t\\right)\\right)\\)</html>"
      ],
      "text/latex": [
       "$\\displaystyle \\left(r, t, \\lambda\\left(r, t\\right), \\mu\\left(r, t\\right)\\right)$"
      ],
      "text/plain": [
       "(r, t, lambda_(r, t), mu(r, t))"
      ]
     },
     "execution_count": 5,
     "metadata": {
     },
     "output_type": "execute_result"
    }
   ],
   "source": [
    "var('r t')\n",
    "lambda_ = function('lambda_')(r, t)\n",
    "mu = function('mu')(r, t)\n",
    "r, t, lambda_, mu"
   ]
  },
  {
   "cell_type": "code",
   "execution_count": 6,
   "metadata": {
    "collapsed": false
   },
   "outputs": [
    {
     "data": {
      "text/html": [
       "<html>\\(\\displaystyle g = -e^{\\left(\\lambda\\left(r, t\\right)\\right)} \\mathrm{d} t\\otimes \\mathrm{d} t + e^{\\left(\\mu\\left(r, t\\right)\\right)} \\mathrm{d} r\\otimes \\mathrm{d} r + r^{2} \\mathrm{d} {\\theta}\\otimes \\mathrm{d} {\\theta} + r^{2} \\sin\\left({\\theta}\\right)^{2} \\mathrm{d} {\\phi}\\otimes \\mathrm{d} {\\phi}\\)</html>"
      ],
      "text/latex": [
       "$\\displaystyle g = -e^{\\left(\\lambda\\left(r, t\\right)\\right)} \\mathrm{d} t\\otimes \\mathrm{d} t + e^{\\left(\\mu\\left(r, t\\right)\\right)} \\mathrm{d} r\\otimes \\mathrm{d} r + r^{2} \\mathrm{d} {\\theta}\\otimes \\mathrm{d} {\\theta} + r^{2} \\sin\\left({\\theta}\\right)^{2} \\mathrm{d} {\\phi}\\otimes \\mathrm{d} {\\phi}$"
      ],
      "text/plain": [
       "g = -e^(lambda_(r, t)) dt⊗dt + e^(mu(r, t)) dr⊗dr + r^2 dth⊗dth + r^2*sin(th)^2 dph⊗dph"
      ]
     },
     "execution_count": 6,
     "metadata": {
     },
     "output_type": "execute_result"
    }
   ],
   "source": [
    "g = M.metric()\n",
    "g[0,0] = -exp(lambda_)\n",
    "g[1,1] = exp(mu)\n",
    "g[2,2] = r^2\n",
    "g[3,3] = r^2*sin(th)^2\n",
    "g.display()"
   ]
  },
  {
   "cell_type": "code",
   "execution_count": 7,
   "metadata": {
    "collapsed": false
   },
   "outputs": [
    {
     "data": {
      "text/html": [
       "<html>\\(\\displaystyle \\begin{array}{lcl} \\Gamma_{ \\phantom{\\, t} \\, t \\, t }^{ \\, t \\phantom{\\, t} \\phantom{\\, t} } & = & \\frac{1}{2} \\, \\frac{\\partial\\,\\lambda}{\\partial t} \\\\ \\Gamma_{ \\phantom{\\, t} \\, t \\, r }^{ \\, t \\phantom{\\, t} \\phantom{\\, r} } & = & \\frac{1}{2} \\, \\frac{\\partial\\,\\lambda}{\\partial r} \\\\ \\Gamma_{ \\phantom{\\, t} \\, r \\, r }^{ \\, t \\phantom{\\, r} \\phantom{\\, r} } & = & \\frac{1}{2} \\, e^{\\left(-\\lambda\\left(r, t\\right) + \\mu\\left(r, t\\right)\\right)} \\frac{\\partial\\,\\mu}{\\partial t} \\\\ \\Gamma_{ \\phantom{\\, r} \\, t \\, t }^{ \\, r \\phantom{\\, t} \\phantom{\\, t} } & = & \\frac{1}{2} \\, e^{\\left(\\lambda\\left(r, t\\right) - \\mu\\left(r, t\\right)\\right)} \\frac{\\partial\\,\\lambda}{\\partial r} \\\\ \\Gamma_{ \\phantom{\\, r} \\, t \\, r }^{ \\, r \\phantom{\\, t} \\phantom{\\, r} } & = & \\frac{1}{2} \\, \\frac{\\partial\\,\\mu}{\\partial t} \\\\ \\Gamma_{ \\phantom{\\, r} \\, r \\, r }^{ \\, r \\phantom{\\, r} \\phantom{\\, r} } & = & \\frac{1}{2} \\, \\frac{\\partial\\,\\mu}{\\partial r} \\\\ \\Gamma_{ \\phantom{\\, r} \\, {\\theta} \\, {\\theta} }^{ \\, r \\phantom{\\, {\\theta}} \\phantom{\\, {\\theta}} } & = & -r e^{\\left(-\\mu\\left(r, t\\right)\\right)} \\\\ \\Gamma_{ \\phantom{\\, r} \\, {\\phi} \\, {\\phi} }^{ \\, r \\phantom{\\, {\\phi}} \\phantom{\\, {\\phi}} } & = & -r e^{\\left(-\\mu\\left(r, t\\right)\\right)} \\sin\\left({\\theta}\\right)^{2} \\\\ \\Gamma_{ \\phantom{\\, {\\theta}} \\, r \\, {\\theta} }^{ \\, {\\theta} \\phantom{\\, r} \\phantom{\\, {\\theta}} } & = & \\frac{1}{r} \\\\ \\Gamma_{ \\phantom{\\, {\\theta}} \\, {\\phi} \\, {\\phi} }^{ \\, {\\theta} \\phantom{\\, {\\phi}} \\phantom{\\, {\\phi}} } & = & -\\cos\\left({\\theta}\\right) \\sin\\left({\\theta}\\right) \\\\ \\Gamma_{ \\phantom{\\, {\\phi}} \\, r \\, {\\phi} }^{ \\, {\\phi} \\phantom{\\, r} \\phantom{\\, {\\phi}} } & = & \\frac{1}{r} \\\\ \\Gamma_{ \\phantom{\\, {\\phi}} \\, {\\theta} \\, {\\phi} }^{ \\, {\\phi} \\phantom{\\, {\\theta}} \\phantom{\\, {\\phi}} } & = & \\frac{\\cos\\left({\\theta}\\right)}{\\sin\\left({\\theta}\\right)} \\end{array}\\)</html>"
      ],
      "text/latex": [
       "$\\displaystyle \\begin{array}{lcl} \\Gamma_{ \\phantom{\\, t} \\, t \\, t }^{ \\, t \\phantom{\\, t} \\phantom{\\, t} } & = & \\frac{1}{2} \\, \\frac{\\partial\\,\\lambda}{\\partial t} \\\\ \\Gamma_{ \\phantom{\\, t} \\, t \\, r }^{ \\, t \\phantom{\\, t} \\phantom{\\, r} } & = & \\frac{1}{2} \\, \\frac{\\partial\\,\\lambda}{\\partial r} \\\\ \\Gamma_{ \\phantom{\\, t} \\, r \\, r }^{ \\, t \\phantom{\\, r} \\phantom{\\, r} } & = & \\frac{1}{2} \\, e^{\\left(-\\lambda\\left(r, t\\right) + \\mu\\left(r, t\\right)\\right)} \\frac{\\partial\\,\\mu}{\\partial t} \\\\ \\Gamma_{ \\phantom{\\, r} \\, t \\, t }^{ \\, r \\phantom{\\, t} \\phantom{\\, t} } & = & \\frac{1}{2} \\, e^{\\left(\\lambda\\left(r, t\\right) - \\mu\\left(r, t\\right)\\right)} \\frac{\\partial\\,\\lambda}{\\partial r} \\\\ \\Gamma_{ \\phantom{\\, r} \\, t \\, r }^{ \\, r \\phantom{\\, t} \\phantom{\\, r} } & = & \\frac{1}{2} \\, \\frac{\\partial\\,\\mu}{\\partial t} \\\\ \\Gamma_{ \\phantom{\\, r} \\, r \\, r }^{ \\, r \\phantom{\\, r} \\phantom{\\, r} } & = & \\frac{1}{2} \\, \\frac{\\partial\\,\\mu}{\\partial r} \\\\ \\Gamma_{ \\phantom{\\, r} \\, {\\theta} \\, {\\theta} }^{ \\, r \\phantom{\\, {\\theta}} \\phantom{\\, {\\theta}} } & = & -r e^{\\left(-\\mu\\left(r, t\\right)\\right)} \\\\ \\Gamma_{ \\phantom{\\, r} \\, {\\phi} \\, {\\phi} }^{ \\, r \\phantom{\\, {\\phi}} \\phantom{\\, {\\phi}} } & = & -r e^{\\left(-\\mu\\left(r, t\\right)\\right)} \\sin\\left({\\theta}\\right)^{2} \\\\ \\Gamma_{ \\phantom{\\, {\\theta}} \\, r \\, {\\theta} }^{ \\, {\\theta} \\phantom{\\, r} \\phantom{\\, {\\theta}} } & = & \\frac{1}{r} \\\\ \\Gamma_{ \\phantom{\\, {\\theta}} \\, {\\phi} \\, {\\phi} }^{ \\, {\\theta} \\phantom{\\, {\\phi}} \\phantom{\\, {\\phi}} } & = & -\\cos\\left({\\theta}\\right) \\sin\\left({\\theta}\\right) \\\\ \\Gamma_{ \\phantom{\\, {\\phi}} \\, r \\, {\\phi} }^{ \\, {\\phi} \\phantom{\\, r} \\phantom{\\, {\\phi}} } & = & \\frac{1}{r} \\\\ \\Gamma_{ \\phantom{\\, {\\phi}} \\, {\\theta} \\, {\\phi} }^{ \\, {\\phi} \\phantom{\\, {\\theta}} \\phantom{\\, {\\phi}} } & = & \\frac{\\cos\\left({\\theta}\\right)}{\\sin\\left({\\theta}\\right)} \\end{array}$"
      ],
      "text/plain": [
       "Gam^t_t,t = 1/2*d(lambda_)/dt \n",
       "Gam^t_t,r = 1/2*d(lambda_)/dr \n",
       "Gam^t_r,r = 1/2*e^(-lambda_(r, t) + mu(r, t))*d(mu)/dt \n",
       "Gam^r_t,t = 1/2*e^(lambda_(r, t) - mu(r, t))*d(lambda_)/dr \n",
       "Gam^r_t,r = 1/2*d(mu)/dt \n",
       "Gam^r_r,r = 1/2*d(mu)/dr \n",
       "Gam^r_th,th = -r*e^(-mu(r, t)) \n",
       "Gam^r_ph,ph = -r*e^(-mu(r, t))*sin(th)^2 \n",
       "Gam^th_r,th = 1/r \n",
       "Gam^th_ph,ph = -cos(th)*sin(th) \n",
       "Gam^ph_r,ph = 1/r \n",
       "Gam^ph_th,ph = cos(th)/sin(th) "
      ]
     },
     "execution_count": 7,
     "metadata": {
     },
     "output_type": "execute_result"
    }
   ],
   "source": [
    "christoffel_symbols = g.christoffel_symbols_display()\n",
    "christoffel_symbols"
   ]
  },
  {
   "cell_type": "code",
   "execution_count": 8,
   "metadata": {
    "collapsed": false
   },
   "outputs": [
    {
     "data": {
      "text/html": [
       "<html>\\(\\displaystyle \\begin{array}{lcl} \\mathrm{Riem}\\left(g\\right)_{ \\phantom{\\, t} \\, r \\, t \\, r }^{ \\, t \\phantom{\\, r} \\phantom{\\, t} \\phantom{\\, r} } & = & -\\frac{1}{4} \\, {\\left(e^{\\left(\\lambda\\left(r, t\\right)\\right)} \\left(\\frac{\\partial\\,\\lambda}{\\partial r}\\right)^{2} - e^{\\left(\\lambda\\left(r, t\\right)\\right)} \\frac{\\partial\\,\\lambda}{\\partial r} \\frac{\\partial\\,\\mu}{\\partial r} + e^{\\left(\\mu\\left(r, t\\right)\\right)} \\frac{\\partial\\,\\lambda}{\\partial t} \\frac{\\partial\\,\\mu}{\\partial t} - e^{\\left(\\mu\\left(r, t\\right)\\right)} \\frac{\\partial\\,\\mu}{\\partial t}^{2} + 2 \\, e^{\\left(\\lambda\\left(r, t\\right)\\right)} \\frac{\\partial^2\\,\\lambda}{\\partial r ^ 2} - 2 \\, e^{\\left(\\mu\\left(r, t\\right)\\right)} \\frac{\\partial^2\\,\\mu}{\\partial t ^ 2}\\right)} e^{\\left(-\\lambda\\left(r, t\\right)\\right)} \\\\ \\mathrm{Riem}\\left(g\\right)_{ \\phantom{\\, t} \\, {\\theta} \\, t \\, {\\theta} }^{ \\, t \\phantom{\\, {\\theta}} \\phantom{\\, t} \\phantom{\\, {\\theta}} } & = & -\\frac{1}{2} \\, r e^{\\left(-\\mu\\left(r, t\\right)\\right)} \\frac{\\partial\\,\\lambda}{\\partial r} \\\\ \\mathrm{Riem}\\left(g\\right)_{ \\phantom{\\, t} \\, {\\theta} \\, r \\, {\\theta} }^{ \\, t \\phantom{\\, {\\theta}} \\phantom{\\, r} \\phantom{\\, {\\theta}} } & = & -\\frac{1}{2} \\, r e^{\\left(-\\lambda\\left(r, t\\right)\\right)} \\frac{\\partial\\,\\mu}{\\partial t} \\\\ \\mathrm{Riem}\\left(g\\right)_{ \\phantom{\\, t} \\, {\\phi} \\, t \\, {\\phi} }^{ \\, t \\phantom{\\, {\\phi}} \\phantom{\\, t} \\phantom{\\, {\\phi}} } & = & -\\frac{1}{2} \\, r e^{\\left(-\\mu\\left(r, t\\right)\\right)} \\sin\\left({\\theta}\\right)^{2} \\frac{\\partial\\,\\lambda}{\\partial r} \\\\ \\mathrm{Riem}\\left(g\\right)_{ \\phantom{\\, t} \\, {\\phi} \\, r \\, {\\phi} }^{ \\, t \\phantom{\\, {\\phi}} \\phantom{\\, r} \\phantom{\\, {\\phi}} } & = & -\\frac{1}{2} \\, r e^{\\left(-\\lambda\\left(r, t\\right)\\right)} \\sin\\left({\\theta}\\right)^{2} \\frac{\\partial\\,\\mu}{\\partial t} \\\\ \\mathrm{Riem}\\left(g\\right)_{ \\phantom{\\, r} \\, t \\, t \\, r }^{ \\, r \\phantom{\\, t} \\phantom{\\, t} \\phantom{\\, r} } & = & -\\frac{1}{4} \\, {\\left(e^{\\left(\\lambda\\left(r, t\\right)\\right)} \\left(\\frac{\\partial\\,\\lambda}{\\partial r}\\right)^{2} - e^{\\left(\\lambda\\left(r, t\\right)\\right)} \\frac{\\partial\\,\\lambda}{\\partial r} \\frac{\\partial\\,\\mu}{\\partial r} + e^{\\left(\\mu\\left(r, t\\right)\\right)} \\frac{\\partial\\,\\lambda}{\\partial t} \\frac{\\partial\\,\\mu}{\\partial t} - e^{\\left(\\mu\\left(r, t\\right)\\right)} \\frac{\\partial\\,\\mu}{\\partial t}^{2} + 2 \\, e^{\\left(\\lambda\\left(r, t\\right)\\right)} \\frac{\\partial^2\\,\\lambda}{\\partial r ^ 2} - 2 \\, e^{\\left(\\mu\\left(r, t\\right)\\right)} \\frac{\\partial^2\\,\\mu}{\\partial t ^ 2}\\right)} e^{\\left(-\\mu\\left(r, t\\right)\\right)} \\\\ \\mathrm{Riem}\\left(g\\right)_{ \\phantom{\\, r} \\, {\\theta} \\, t \\, {\\theta} }^{ \\, r \\phantom{\\, {\\theta}} \\phantom{\\, t} \\phantom{\\, {\\theta}} } & = & \\frac{1}{2} \\, r e^{\\left(-\\mu\\left(r, t\\right)\\right)} \\frac{\\partial\\,\\mu}{\\partial t} \\\\ \\mathrm{Riem}\\left(g\\right)_{ \\phantom{\\, r} \\, {\\theta} \\, r \\, {\\theta} }^{ \\, r \\phantom{\\, {\\theta}} \\phantom{\\, r} \\phantom{\\, {\\theta}} } & = & \\frac{1}{2} \\, r e^{\\left(-\\mu\\left(r, t\\right)\\right)} \\frac{\\partial\\,\\mu}{\\partial r} \\\\ \\mathrm{Riem}\\left(g\\right)_{ \\phantom{\\, r} \\, {\\phi} \\, t \\, {\\phi} }^{ \\, r \\phantom{\\, {\\phi}} \\phantom{\\, t} \\phantom{\\, {\\phi}} } & = & \\frac{1}{2} \\, r e^{\\left(-\\mu\\left(r, t\\right)\\right)} \\sin\\left({\\theta}\\right)^{2} \\frac{\\partial\\,\\mu}{\\partial t} \\\\ \\mathrm{Riem}\\left(g\\right)_{ \\phantom{\\, r} \\, {\\phi} \\, r \\, {\\phi} }^{ \\, r \\phantom{\\, {\\phi}} \\phantom{\\, r} \\phantom{\\, {\\phi}} } & = & \\frac{1}{2} \\, r e^{\\left(-\\mu\\left(r, t\\right)\\right)} \\sin\\left({\\theta}\\right)^{2} \\frac{\\partial\\,\\mu}{\\partial r} \\\\ \\mathrm{Riem}\\left(g\\right)_{ \\phantom{\\, {\\theta}} \\, t \\, t \\, {\\theta} }^{ \\, {\\theta} \\phantom{\\, t} \\phantom{\\, t} \\phantom{\\, {\\theta}} } & = & -\\frac{e^{\\left(\\lambda\\left(r, t\\right) - \\mu\\left(r, t\\right)\\right)} \\frac{\\partial\\,\\lambda}{\\partial r}}{2 \\, r} \\\\ \\mathrm{Riem}\\left(g\\right)_{ \\phantom{\\, {\\theta}} \\, t \\, r \\, {\\theta} }^{ \\, {\\theta} \\phantom{\\, t} \\phantom{\\, r} \\phantom{\\, {\\theta}} } & = & -\\frac{\\frac{\\partial\\,\\mu}{\\partial t}}{2 \\, r} \\\\ \\mathrm{Riem}\\left(g\\right)_{ \\phantom{\\, {\\theta}} \\, r \\, t \\, {\\theta} }^{ \\, {\\theta} \\phantom{\\, r} \\phantom{\\, t} \\phantom{\\, {\\theta}} } & = & -\\frac{\\frac{\\partial\\,\\mu}{\\partial t}}{2 \\, r} \\\\ \\mathrm{Riem}\\left(g\\right)_{ \\phantom{\\, {\\theta}} \\, r \\, r \\, {\\theta} }^{ \\, {\\theta} \\phantom{\\, r} \\phantom{\\, r} \\phantom{\\, {\\theta}} } & = & -\\frac{\\frac{\\partial\\,\\mu}{\\partial r}}{2 \\, r} \\\\ \\mathrm{Riem}\\left(g\\right)_{ \\phantom{\\, {\\theta}} \\, {\\phi} \\, {\\theta} \\, {\\phi} }^{ \\, {\\theta} \\phantom{\\, {\\phi}} \\phantom{\\, {\\theta}} \\phantom{\\, {\\phi}} } & = & {\\left(e^{\\left(\\mu\\left(r, t\\right)\\right)} - 1\\right)} e^{\\left(-\\mu\\left(r, t\\right)\\right)} \\sin\\left({\\theta}\\right)^{2} \\\\ \\mathrm{Riem}\\left(g\\right)_{ \\phantom{\\, {\\phi}} \\, t \\, t \\, {\\phi} }^{ \\, {\\phi} \\phantom{\\, t} \\phantom{\\, t} \\phantom{\\, {\\phi}} } & = & -\\frac{e^{\\left(\\lambda\\left(r, t\\right) - \\mu\\left(r, t\\right)\\right)} \\frac{\\partial\\,\\lambda}{\\partial r}}{2 \\, r} \\\\ \\mathrm{Riem}\\left(g\\right)_{ \\phantom{\\, {\\phi}} \\, t \\, r \\, {\\phi} }^{ \\, {\\phi} \\phantom{\\, t} \\phantom{\\, r} \\phantom{\\, {\\phi}} } & = & -\\frac{\\frac{\\partial\\,\\mu}{\\partial t}}{2 \\, r} \\\\ \\mathrm{Riem}\\left(g\\right)_{ \\phantom{\\, {\\phi}} \\, r \\, t \\, {\\phi} }^{ \\, {\\phi} \\phantom{\\, r} \\phantom{\\, t} \\phantom{\\, {\\phi}} } & = & -\\frac{\\frac{\\partial\\,\\mu}{\\partial t}}{2 \\, r} \\\\ \\mathrm{Riem}\\left(g\\right)_{ \\phantom{\\, {\\phi}} \\, r \\, r \\, {\\phi} }^{ \\, {\\phi} \\phantom{\\, r} \\phantom{\\, r} \\phantom{\\, {\\phi}} } & = & -\\frac{\\frac{\\partial\\,\\mu}{\\partial r}}{2 \\, r} \\\\ \\mathrm{Riem}\\left(g\\right)_{ \\phantom{\\, {\\phi}} \\, {\\theta} \\, {\\theta} \\, {\\phi} }^{ \\, {\\phi} \\phantom{\\, {\\theta}} \\phantom{\\, {\\theta}} \\phantom{\\, {\\phi}} } & = & -{\\left(e^{\\left(\\mu\\left(r, t\\right)\\right)} - 1\\right)} e^{\\left(-\\mu\\left(r, t\\right)\\right)} \\end{array}\\)</html>"
      ],
      "text/latex": [
       "$\\displaystyle \\begin{array}{lcl} \\mathrm{Riem}\\left(g\\right)_{ \\phantom{\\, t} \\, r \\, t \\, r }^{ \\, t \\phantom{\\, r} \\phantom{\\, t} \\phantom{\\, r} } & = & -\\frac{1}{4} \\, {\\left(e^{\\left(\\lambda\\left(r, t\\right)\\right)} \\left(\\frac{\\partial\\,\\lambda}{\\partial r}\\right)^{2} - e^{\\left(\\lambda\\left(r, t\\right)\\right)} \\frac{\\partial\\,\\lambda}{\\partial r} \\frac{\\partial\\,\\mu}{\\partial r} + e^{\\left(\\mu\\left(r, t\\right)\\right)} \\frac{\\partial\\,\\lambda}{\\partial t} \\frac{\\partial\\,\\mu}{\\partial t} - e^{\\left(\\mu\\left(r, t\\right)\\right)} \\frac{\\partial\\,\\mu}{\\partial t}^{2} + 2 \\, e^{\\left(\\lambda\\left(r, t\\right)\\right)} \\frac{\\partial^2\\,\\lambda}{\\partial r ^ 2} - 2 \\, e^{\\left(\\mu\\left(r, t\\right)\\right)} \\frac{\\partial^2\\,\\mu}{\\partial t ^ 2}\\right)} e^{\\left(-\\lambda\\left(r, t\\right)\\right)} \\\\ \\mathrm{Riem}\\left(g\\right)_{ \\phantom{\\, t} \\, {\\theta} \\, t \\, {\\theta} }^{ \\, t \\phantom{\\, {\\theta}} \\phantom{\\, t} \\phantom{\\, {\\theta}} } & = & -\\frac{1}{2} \\, r e^{\\left(-\\mu\\left(r, t\\right)\\right)} \\frac{\\partial\\,\\lambda}{\\partial r} \\\\ \\mathrm{Riem}\\left(g\\right)_{ \\phantom{\\, t} \\, {\\theta} \\, r \\, {\\theta} }^{ \\, t \\phantom{\\, {\\theta}} \\phantom{\\, r} \\phantom{\\, {\\theta}} } & = & -\\frac{1}{2} \\, r e^{\\left(-\\lambda\\left(r, t\\right)\\right)} \\frac{\\partial\\,\\mu}{\\partial t} \\\\ \\mathrm{Riem}\\left(g\\right)_{ \\phantom{\\, t} \\, {\\phi} \\, t \\, {\\phi} }^{ \\, t \\phantom{\\, {\\phi}} \\phantom{\\, t} \\phantom{\\, {\\phi}} } & = & -\\frac{1}{2} \\, r e^{\\left(-\\mu\\left(r, t\\right)\\right)} \\sin\\left({\\theta}\\right)^{2} \\frac{\\partial\\,\\lambda}{\\partial r} \\\\ \\mathrm{Riem}\\left(g\\right)_{ \\phantom{\\, t} \\, {\\phi} \\, r \\, {\\phi} }^{ \\, t \\phantom{\\, {\\phi}} \\phantom{\\, r} \\phantom{\\, {\\phi}} } & = & -\\frac{1}{2} \\, r e^{\\left(-\\lambda\\left(r, t\\right)\\right)} \\sin\\left({\\theta}\\right)^{2} \\frac{\\partial\\,\\mu}{\\partial t} \\\\ \\mathrm{Riem}\\left(g\\right)_{ \\phantom{\\, r} \\, t \\, t \\, r }^{ \\, r \\phantom{\\, t} \\phantom{\\, t} \\phantom{\\, r} } & = & -\\frac{1}{4} \\, {\\left(e^{\\left(\\lambda\\left(r, t\\right)\\right)} \\left(\\frac{\\partial\\,\\lambda}{\\partial r}\\right)^{2} - e^{\\left(\\lambda\\left(r, t\\right)\\right)} \\frac{\\partial\\,\\lambda}{\\partial r} \\frac{\\partial\\,\\mu}{\\partial r} + e^{\\left(\\mu\\left(r, t\\right)\\right)} \\frac{\\partial\\,\\lambda}{\\partial t} \\frac{\\partial\\,\\mu}{\\partial t} - e^{\\left(\\mu\\left(r, t\\right)\\right)} \\frac{\\partial\\,\\mu}{\\partial t}^{2} + 2 \\, e^{\\left(\\lambda\\left(r, t\\right)\\right)} \\frac{\\partial^2\\,\\lambda}{\\partial r ^ 2} - 2 \\, e^{\\left(\\mu\\left(r, t\\right)\\right)} \\frac{\\partial^2\\,\\mu}{\\partial t ^ 2}\\right)} e^{\\left(-\\mu\\left(r, t\\right)\\right)} \\\\ \\mathrm{Riem}\\left(g\\right)_{ \\phantom{\\, r} \\, {\\theta} \\, t \\, {\\theta} }^{ \\, r \\phantom{\\, {\\theta}} \\phantom{\\, t} \\phantom{\\, {\\theta}} } & = & \\frac{1}{2} \\, r e^{\\left(-\\mu\\left(r, t\\right)\\right)} \\frac{\\partial\\,\\mu}{\\partial t} \\\\ \\mathrm{Riem}\\left(g\\right)_{ \\phantom{\\, r} \\, {\\theta} \\, r \\, {\\theta} }^{ \\, r \\phantom{\\, {\\theta}} \\phantom{\\, r} \\phantom{\\, {\\theta}} } & = & \\frac{1}{2} \\, r e^{\\left(-\\mu\\left(r, t\\right)\\right)} \\frac{\\partial\\,\\mu}{\\partial r} \\\\ \\mathrm{Riem}\\left(g\\right)_{ \\phantom{\\, r} \\, {\\phi} \\, t \\, {\\phi} }^{ \\, r \\phantom{\\, {\\phi}} \\phantom{\\, t} \\phantom{\\, {\\phi}} } & = & \\frac{1}{2} \\, r e^{\\left(-\\mu\\left(r, t\\right)\\right)} \\sin\\left({\\theta}\\right)^{2} \\frac{\\partial\\,\\mu}{\\partial t} \\\\ \\mathrm{Riem}\\left(g\\right)_{ \\phantom{\\, r} \\, {\\phi} \\, r \\, {\\phi} }^{ \\, r \\phantom{\\, {\\phi}} \\phantom{\\, r} \\phantom{\\, {\\phi}} } & = & \\frac{1}{2} \\, r e^{\\left(-\\mu\\left(r, t\\right)\\right)} \\sin\\left({\\theta}\\right)^{2} \\frac{\\partial\\,\\mu}{\\partial r} \\\\ \\mathrm{Riem}\\left(g\\right)_{ \\phantom{\\, {\\theta}} \\, t \\, t \\, {\\theta} }^{ \\, {\\theta} \\phantom{\\, t} \\phantom{\\, t} \\phantom{\\, {\\theta}} } & = & -\\frac{e^{\\left(\\lambda\\left(r, t\\right) - \\mu\\left(r, t\\right)\\right)} \\frac{\\partial\\,\\lambda}{\\partial r}}{2 \\, r} \\\\ \\mathrm{Riem}\\left(g\\right)_{ \\phantom{\\, {\\theta}} \\, t \\, r \\, {\\theta} }^{ \\, {\\theta} \\phantom{\\, t} \\phantom{\\, r} \\phantom{\\, {\\theta}} } & = & -\\frac{\\frac{\\partial\\,\\mu}{\\partial t}}{2 \\, r} \\\\ \\mathrm{Riem}\\left(g\\right)_{ \\phantom{\\, {\\theta}} \\, r \\, t \\, {\\theta} }^{ \\, {\\theta} \\phantom{\\, r} \\phantom{\\, t} \\phantom{\\, {\\theta}} } & = & -\\frac{\\frac{\\partial\\,\\mu}{\\partial t}}{2 \\, r} \\\\ \\mathrm{Riem}\\left(g\\right)_{ \\phantom{\\, {\\theta}} \\, r \\, r \\, {\\theta} }^{ \\, {\\theta} \\phantom{\\, r} \\phantom{\\, r} \\phantom{\\, {\\theta}} } & = & -\\frac{\\frac{\\partial\\,\\mu}{\\partial r}}{2 \\, r} \\\\ \\mathrm{Riem}\\left(g\\right)_{ \\phantom{\\, {\\theta}} \\, {\\phi} \\, {\\theta} \\, {\\phi} }^{ \\, {\\theta} \\phantom{\\, {\\phi}} \\phantom{\\, {\\theta}} \\phantom{\\, {\\phi}} } & = & {\\left(e^{\\left(\\mu\\left(r, t\\right)\\right)} - 1\\right)} e^{\\left(-\\mu\\left(r, t\\right)\\right)} \\sin\\left({\\theta}\\right)^{2} \\\\ \\mathrm{Riem}\\left(g\\right)_{ \\phantom{\\, {\\phi}} \\, t \\, t \\, {\\phi} }^{ \\, {\\phi} \\phantom{\\, t} \\phantom{\\, t} \\phantom{\\, {\\phi}} } & = & -\\frac{e^{\\left(\\lambda\\left(r, t\\right) - \\mu\\left(r, t\\right)\\right)} \\frac{\\partial\\,\\lambda}{\\partial r}}{2 \\, r} \\\\ \\mathrm{Riem}\\left(g\\right)_{ \\phantom{\\, {\\phi}} \\, t \\, r \\, {\\phi} }^{ \\, {\\phi} \\phantom{\\, t} \\phantom{\\, r} \\phantom{\\, {\\phi}} } & = & -\\frac{\\frac{\\partial\\,\\mu}{\\partial t}}{2 \\, r} \\\\ \\mathrm{Riem}\\left(g\\right)_{ \\phantom{\\, {\\phi}} \\, r \\, t \\, {\\phi} }^{ \\, {\\phi} \\phantom{\\, r} \\phantom{\\, t} \\phantom{\\, {\\phi}} } & = & -\\frac{\\frac{\\partial\\,\\mu}{\\partial t}}{2 \\, r} \\\\ \\mathrm{Riem}\\left(g\\right)_{ \\phantom{\\, {\\phi}} \\, r \\, r \\, {\\phi} }^{ \\, {\\phi} \\phantom{\\, r} \\phantom{\\, r} \\phantom{\\, {\\phi}} } & = & -\\frac{\\frac{\\partial\\,\\mu}{\\partial r}}{2 \\, r} \\\\ \\mathrm{Riem}\\left(g\\right)_{ \\phantom{\\, {\\phi}} \\, {\\theta} \\, {\\theta} \\, {\\phi} }^{ \\, {\\phi} \\phantom{\\, {\\theta}} \\phantom{\\, {\\theta}} \\phantom{\\, {\\phi}} } & = & -{\\left(e^{\\left(\\mu\\left(r, t\\right)\\right)} - 1\\right)} e^{\\left(-\\mu\\left(r, t\\right)\\right)} \\end{array}$"
      ],
      "text/plain": [
       "Riem(g)^t_r,t,r = -1/4*(e^(lambda_(r, t))*(d(lambda_)/dr)^2 - e^(lambda_(r, t))*d(lambda_)/dr*d(mu)/dr + e^(mu(r, t))*d(lambda_)/dt*d(mu)/dt - e^(mu(r, t))*d(mu)/dt^2 + 2*e^(lambda_(r, t))*d^2(lambda_)/dr^2 - 2*e^(mu(r, t))*d^2(mu)/dt^2)*e^(-lambda_(r, t)) \n",
       "Riem(g)^t_th,t,th = -1/2*r*e^(-mu(r, t))*d(lambda_)/dr \n",
       "Riem(g)^t_th,r,th = -1/2*r*e^(-lambda_(r, t))*d(mu)/dt \n",
       "Riem(g)^t_ph,t,ph = -1/2*r*e^(-mu(r, t))*sin(th)^2*d(lambda_)/dr \n",
       "Riem(g)^t_ph,r,ph = -1/2*r*e^(-lambda_(r, t))*sin(th)^2*d(mu)/dt \n",
       "Riem(g)^r_t,t,r = -1/4*(e^(lambda_(r, t))*(d(lambda_)/dr)^2 - e^(lambda_(r, t))*d(lambda_)/dr*d(mu)/dr + e^(mu(r, t))*d(lambda_)/dt*d(mu)/dt - e^(mu(r, t))*d(mu)/dt^2 + 2*e^(lambda_(r, t))*d^2(lambda_)/dr^2 - 2*e^(mu(r, t))*d^2(mu)/dt^2)*e^(-mu(r, t)) \n",
       "Riem(g)^r_th,t,th = 1/2*r*e^(-mu(r, t))*d(mu)/dt \n",
       "Riem(g)^r_th,r,th = 1/2*r*e^(-mu(r, t))*d(mu)/dr \n",
       "Riem(g)^r_ph,t,ph = 1/2*r*e^(-mu(r, t))*sin(th)^2*d(mu)/dt \n",
       "Riem(g)^r_ph,r,ph = 1/2*r*e^(-mu(r, t))*sin(th)^2*d(mu)/dr \n",
       "Riem(g)^th_t,t,th = -1/2*e^(lambda_(r, t) - mu(r, t))*d(lambda_)/dr/r \n",
       "Riem(g)^th_t,r,th = -1/2*d(mu)/dt/r \n",
       "Riem(g)^th_r,t,th = -1/2*d(mu)/dt/r \n",
       "Riem(g)^th_r,r,th = -1/2*d(mu)/dr/r \n",
       "Riem(g)^th_ph,th,ph = (e^(mu(r, t)) - 1)*e^(-mu(r, t))*sin(th)^2 \n",
       "Riem(g)^ph_t,t,ph = -1/2*e^(lambda_(r, t) - mu(r, t))*d(lambda_)/dr/r \n",
       "Riem(g)^ph_t,r,ph = -1/2*d(mu)/dt/r \n",
       "Riem(g)^ph_r,t,ph = -1/2*d(mu)/dt/r \n",
       "Riem(g)^ph_r,r,ph = -1/2*d(mu)/dr/r \n",
       "Riem(g)^ph_th,th,ph = -(e^(mu(r, t)) - 1)*e^(-mu(r, t)) "
      ]
     },
     "execution_count": 8,
     "metadata": {
     },
     "output_type": "execute_result"
    }
   ],
   "source": [
    "riemann = g.riemann()\n",
    "riemann.display_comp(only_nonredundant=true)"
   ]
  },
  {
   "cell_type": "code",
   "execution_count": 9,
   "metadata": {
    "collapsed": false
   },
   "outputs": [
    {
     "data": {
      "text/html": [
       "<html>\\(\\displaystyle \\begin{array}{lcl} \\mathrm{Ric}\\left(g\\right)_{ \\, t \\, t }^{ \\phantom{\\, t}\\phantom{\\, t} } & = & \\frac{{\\left(r e^{\\left(\\lambda\\left(r, t\\right)\\right)} \\left(\\frac{\\partial\\,\\lambda}{\\partial r}\\right)^{2} - r e^{\\left(\\lambda\\left(r, t\\right)\\right)} \\frac{\\partial\\,\\lambda}{\\partial r} \\frac{\\partial\\,\\mu}{\\partial r} + r e^{\\left(\\mu\\left(r, t\\right)\\right)} \\frac{\\partial\\,\\lambda}{\\partial t} \\frac{\\partial\\,\\mu}{\\partial t} - r e^{\\left(\\mu\\left(r, t\\right)\\right)} \\frac{\\partial\\,\\mu}{\\partial t}^{2} + 2 \\, r e^{\\left(\\lambda\\left(r, t\\right)\\right)} \\frac{\\partial^2\\,\\lambda}{\\partial r ^ 2} - 2 \\, r e^{\\left(\\mu\\left(r, t\\right)\\right)} \\frac{\\partial^2\\,\\mu}{\\partial t ^ 2} + 4 \\, e^{\\left(\\lambda\\left(r, t\\right)\\right)} \\frac{\\partial\\,\\lambda}{\\partial r}\\right)} e^{\\left(-\\mu\\left(r, t\\right)\\right)}}{4 \\, r} \\\\ \\mathrm{Ric}\\left(g\\right)_{ \\, t \\, r }^{ \\phantom{\\, t}\\phantom{\\, r} } & = & \\frac{\\frac{\\partial\\,\\mu}{\\partial t}}{r} \\\\ \\mathrm{Ric}\\left(g\\right)_{ \\, r \\, t }^{ \\phantom{\\, r}\\phantom{\\, t} } & = & \\frac{\\frac{\\partial\\,\\mu}{\\partial t}}{r} \\\\ \\mathrm{Ric}\\left(g\\right)_{ \\, r \\, r }^{ \\phantom{\\, r}\\phantom{\\, r} } & = & -\\frac{{\\left(r e^{\\left(\\lambda\\left(r, t\\right)\\right)} \\left(\\frac{\\partial\\,\\lambda}{\\partial r}\\right)^{2} + r e^{\\left(\\mu\\left(r, t\\right)\\right)} \\frac{\\partial\\,\\lambda}{\\partial t} \\frac{\\partial\\,\\mu}{\\partial t} - r e^{\\left(\\mu\\left(r, t\\right)\\right)} \\frac{\\partial\\,\\mu}{\\partial t}^{2} + 2 \\, r e^{\\left(\\lambda\\left(r, t\\right)\\right)} \\frac{\\partial^2\\,\\lambda}{\\partial r ^ 2} - 2 \\, r e^{\\left(\\mu\\left(r, t\\right)\\right)} \\frac{\\partial^2\\,\\mu}{\\partial t ^ 2} - {\\left(r e^{\\left(\\lambda\\left(r, t\\right)\\right)} \\frac{\\partial\\,\\lambda}{\\partial r} + 4 \\, e^{\\left(\\lambda\\left(r, t\\right)\\right)}\\right)} \\frac{\\partial\\,\\mu}{\\partial r}\\right)} e^{\\left(-\\lambda\\left(r, t\\right)\\right)}}{4 \\, r} \\\\ \\mathrm{Ric}\\left(g\\right)_{ \\, {\\theta} \\, {\\theta} }^{ \\phantom{\\, {\\theta}}\\phantom{\\, {\\theta}} } & = & -\\frac{1}{2} \\, {\\left(r \\frac{\\partial\\,\\lambda}{\\partial r} - r \\frac{\\partial\\,\\mu}{\\partial r} - 2 \\, e^{\\left(\\mu\\left(r, t\\right)\\right)} + 2\\right)} e^{\\left(-\\mu\\left(r, t\\right)\\right)} \\\\ \\mathrm{Ric}\\left(g\\right)_{ \\, {\\phi} \\, {\\phi} }^{ \\phantom{\\, {\\phi}}\\phantom{\\, {\\phi}} } & = & -\\frac{1}{2} \\, {\\left(r \\frac{\\partial\\,\\lambda}{\\partial r} - r \\frac{\\partial\\,\\mu}{\\partial r} - 2 \\, e^{\\left(\\mu\\left(r, t\\right)\\right)} + 2\\right)} e^{\\left(-\\mu\\left(r, t\\right)\\right)} \\sin\\left({\\theta}\\right)^{2} \\end{array}\\)</html>"
      ],
      "text/latex": [
       "$\\displaystyle \\begin{array}{lcl} \\mathrm{Ric}\\left(g\\right)_{ \\, t \\, t }^{ \\phantom{\\, t}\\phantom{\\, t} } & = & \\frac{{\\left(r e^{\\left(\\lambda\\left(r, t\\right)\\right)} \\left(\\frac{\\partial\\,\\lambda}{\\partial r}\\right)^{2} - r e^{\\left(\\lambda\\left(r, t\\right)\\right)} \\frac{\\partial\\,\\lambda}{\\partial r} \\frac{\\partial\\,\\mu}{\\partial r} + r e^{\\left(\\mu\\left(r, t\\right)\\right)} \\frac{\\partial\\,\\lambda}{\\partial t} \\frac{\\partial\\,\\mu}{\\partial t} - r e^{\\left(\\mu\\left(r, t\\right)\\right)} \\frac{\\partial\\,\\mu}{\\partial t}^{2} + 2 \\, r e^{\\left(\\lambda\\left(r, t\\right)\\right)} \\frac{\\partial^2\\,\\lambda}{\\partial r ^ 2} - 2 \\, r e^{\\left(\\mu\\left(r, t\\right)\\right)} \\frac{\\partial^2\\,\\mu}{\\partial t ^ 2} + 4 \\, e^{\\left(\\lambda\\left(r, t\\right)\\right)} \\frac{\\partial\\,\\lambda}{\\partial r}\\right)} e^{\\left(-\\mu\\left(r, t\\right)\\right)}}{4 \\, r} \\\\ \\mathrm{Ric}\\left(g\\right)_{ \\, t \\, r }^{ \\phantom{\\, t}\\phantom{\\, r} } & = & \\frac{\\frac{\\partial\\,\\mu}{\\partial t}}{r} \\\\ \\mathrm{Ric}\\left(g\\right)_{ \\, r \\, t }^{ \\phantom{\\, r}\\phantom{\\, t} } & = & \\frac{\\frac{\\partial\\,\\mu}{\\partial t}}{r} \\\\ \\mathrm{Ric}\\left(g\\right)_{ \\, r \\, r }^{ \\phantom{\\, r}\\phantom{\\, r} } & = & -\\frac{{\\left(r e^{\\left(\\lambda\\left(r, t\\right)\\right)} \\left(\\frac{\\partial\\,\\lambda}{\\partial r}\\right)^{2} + r e^{\\left(\\mu\\left(r, t\\right)\\right)} \\frac{\\partial\\,\\lambda}{\\partial t} \\frac{\\partial\\,\\mu}{\\partial t} - r e^{\\left(\\mu\\left(r, t\\right)\\right)} \\frac{\\partial\\,\\mu}{\\partial t}^{2} + 2 \\, r e^{\\left(\\lambda\\left(r, t\\right)\\right)} \\frac{\\partial^2\\,\\lambda}{\\partial r ^ 2} - 2 \\, r e^{\\left(\\mu\\left(r, t\\right)\\right)} \\frac{\\partial^2\\,\\mu}{\\partial t ^ 2} - {\\left(r e^{\\left(\\lambda\\left(r, t\\right)\\right)} \\frac{\\partial\\,\\lambda}{\\partial r} + 4 \\, e^{\\left(\\lambda\\left(r, t\\right)\\right)}\\right)} \\frac{\\partial\\,\\mu}{\\partial r}\\right)} e^{\\left(-\\lambda\\left(r, t\\right)\\right)}}{4 \\, r} \\\\ \\mathrm{Ric}\\left(g\\right)_{ \\, {\\theta} \\, {\\theta} }^{ \\phantom{\\, {\\theta}}\\phantom{\\, {\\theta}} } & = & -\\frac{1}{2} \\, {\\left(r \\frac{\\partial\\,\\lambda}{\\partial r} - r \\frac{\\partial\\,\\mu}{\\partial r} - 2 \\, e^{\\left(\\mu\\left(r, t\\right)\\right)} + 2\\right)} e^{\\left(-\\mu\\left(r, t\\right)\\right)} \\\\ \\mathrm{Ric}\\left(g\\right)_{ \\, {\\phi} \\, {\\phi} }^{ \\phantom{\\, {\\phi}}\\phantom{\\, {\\phi}} } & = & -\\frac{1}{2} \\, {\\left(r \\frac{\\partial\\,\\lambda}{\\partial r} - r \\frac{\\partial\\,\\mu}{\\partial r} - 2 \\, e^{\\left(\\mu\\left(r, t\\right)\\right)} + 2\\right)} e^{\\left(-\\mu\\left(r, t\\right)\\right)} \\sin\\left({\\theta}\\right)^{2} \\end{array}$"
      ],
      "text/plain": [
       "Ric(g)_t,t = 1/4*(r*e^(lambda_(r, t))*(d(lambda_)/dr)^2 - r*e^(lambda_(r, t))*d(lambda_)/dr*d(mu)/dr + r*e^(mu(r, t))*d(lambda_)/dt*d(mu)/dt - r*e^(mu(r, t))*d(mu)/dt^2 + 2*r*e^(lambda_(r, t))*d^2(lambda_)/dr^2 - 2*r*e^(mu(r, t))*d^2(mu)/dt^2 + 4*e^(lambda_(r, t))*d(lambda_)/dr)*e^(-mu(r, t))/r \n",
       "Ric(g)_t,r = d(mu)/dt/r \n",
       "Ric(g)_r,t = d(mu)/dt/r \n",
       "Ric(g)_r,r = -1/4*(r*e^(lambda_(r, t))*(d(lambda_)/dr)^2 + r*e^(mu(r, t))*d(lambda_)/dt*d(mu)/dt - r*e^(mu(r, t))*d(mu)/dt^2 + 2*r*e^(lambda_(r, t))*d^2(lambda_)/dr^2 - 2*r*e^(mu(r, t))*d^2(mu)/dt^2 - (r*e^(lambda_(r, t))*d(lambda_)/dr + 4*e^(lambda_(r, t)))*d(mu)/dr)*e^(-lambda_(r, t))/r \n",
       "Ric(g)_th,th = -1/2*(r*d(lambda_)/dr - r*d(mu)/dr - 2*e^(mu(r, t)) + 2)*e^(-mu(r, t)) \n",
       "Ric(g)_ph,ph = -1/2*(r*d(lambda_)/dr - r*d(mu)/dr - 2*e^(mu(r, t)) + 2)*e^(-mu(r, t))*sin(th)^2 "
      ]
     },
     "execution_count": 9,
     "metadata": {
     },
     "output_type": "execute_result"
    }
   ],
   "source": [
    "ricci_tensor = g.ricci()\n",
    "ricci_tensor.display_comp(only_nonredundant=false)"
   ]
  },
  {
   "cell_type": "code",
   "execution_count": 10,
   "metadata": {
    "collapsed": false
   },
   "outputs": [
   ],
   "source": [
    "ricci_scalar = g.ricci_scalar()"
   ]
  },
  {
   "cell_type": "code",
   "execution_count": 11,
   "metadata": {
    "collapsed": false
   },
   "outputs": [
    {
     "data": {
      "text/html": [
       "<html>\\(\\displaystyle \\mathrm{r}\\left(g\\right)\\)</html>"
      ],
      "text/latex": [
       "$\\displaystyle \\mathrm{r}\\left(g\\right)$"
      ],
      "text/plain": [
       "Scalar field r(g) on the 4-dimensional Lorentzian manifold M"
      ]
     },
     "execution_count": 11,
     "metadata": {
     },
     "output_type": "execute_result"
    }
   ],
   "source": [
    "ricci_scalar\n",
    "#g.ricci_scalar?\n",
    "#g.ricci_scalar().display()"
   ]
  },
  {
   "cell_type": "code",
   "execution_count": 12,
   "metadata": {
    "collapsed": false
   },
   "outputs": [
    {
     "data": {
      "text/html": [
       "<html>\\(\\displaystyle \\mathrm{True}\\)</html>"
      ],
      "text/latex": [
       "$\\displaystyle \\mathrm{True}$"
      ],
      "text/plain": [
       "True"
      ]
     },
     "execution_count": 12,
     "metadata": {
     },
     "output_type": "execute_result"
    }
   ],
   "source": [
    "g.ricci_scalar() == g.inverse()['^{ab}']*ricci_tensor['_{ab}']"
   ]
  },
  {
   "cell_type": "code",
   "execution_count": 13,
   "metadata": {
    "collapsed": false
   },
   "outputs": [
    {
     "data": {
      "text/html": [
       "<html>\\(\\displaystyle \\mathrm{Ric}\\left(g\\right)-\\text{unnamed metric} = \\frac{{\\left(r e^{\\left(\\lambda\\left(r, t\\right)\\right)} \\frac{\\partial\\,\\mu}{\\partial r} + e^{\\left(\\lambda\\left(r, t\\right) + \\mu\\left(r, t\\right)\\right)} - e^{\\left(\\lambda\\left(r, t\\right)\\right)}\\right)} e^{\\left(-\\mu\\left(r, t\\right)\\right)}}{r^{2}} \\mathrm{d} t\\otimes \\mathrm{d} t + \\frac{\\frac{\\partial\\,\\mu}{\\partial t}}{r} \\mathrm{d} t\\otimes \\mathrm{d} r + \\frac{\\frac{\\partial\\,\\mu}{\\partial t}}{r} \\mathrm{d} r\\otimes \\mathrm{d} t + \\left( \\frac{r \\frac{\\partial\\,\\lambda}{\\partial r} - e^{\\left(\\mu\\left(r, t\\right)\\right)} + 1}{r^{2}} \\right) \\mathrm{d} r\\otimes \\mathrm{d} r + \\frac{1}{4} \\, {\\left(r^{2} e^{\\left(\\lambda\\left(r, t\\right)\\right)} \\left(\\frac{\\partial\\,\\lambda}{\\partial r}\\right)^{2} + r^{2} e^{\\left(\\mu\\left(r, t\\right)\\right)} \\frac{\\partial\\,\\lambda}{\\partial t} \\frac{\\partial\\,\\mu}{\\partial t} - r^{2} e^{\\left(\\mu\\left(r, t\\right)\\right)} \\frac{\\partial\\,\\mu}{\\partial t}^{2} + 2 \\, r^{2} e^{\\left(\\lambda\\left(r, t\\right)\\right)} \\frac{\\partial^2\\,\\lambda}{\\partial r ^ 2} - 2 \\, r^{2} e^{\\left(\\mu\\left(r, t\\right)\\right)} \\frac{\\partial^2\\,\\mu}{\\partial t ^ 2} + 2 \\, r e^{\\left(\\lambda\\left(r, t\\right)\\right)} \\frac{\\partial\\,\\lambda}{\\partial r} - {\\left(r^{2} e^{\\left(\\lambda\\left(r, t\\right)\\right)} \\frac{\\partial\\,\\lambda}{\\partial r} + 2 \\, r e^{\\left(\\lambda\\left(r, t\\right)\\right)}\\right)} \\frac{\\partial\\,\\mu}{\\partial r}\\right)} e^{\\left(-\\lambda\\left(r, t\\right) - \\mu\\left(r, t\\right)\\right)} \\mathrm{d} {\\theta}\\otimes \\mathrm{d} {\\theta} + \\frac{1}{4} \\, {\\left(r^{2} e^{\\left(\\lambda\\left(r, t\\right)\\right)} \\left(\\frac{\\partial\\,\\lambda}{\\partial r}\\right)^{2} + r^{2} e^{\\left(\\mu\\left(r, t\\right)\\right)} \\frac{\\partial\\,\\lambda}{\\partial t} \\frac{\\partial\\,\\mu}{\\partial t} - r^{2} e^{\\left(\\mu\\left(r, t\\right)\\right)} \\frac{\\partial\\,\\mu}{\\partial t}^{2} + 2 \\, r^{2} e^{\\left(\\lambda\\left(r, t\\right)\\right)} \\frac{\\partial^2\\,\\lambda}{\\partial r ^ 2} - 2 \\, r^{2} e^{\\left(\\mu\\left(r, t\\right)\\right)} \\frac{\\partial^2\\,\\mu}{\\partial t ^ 2} + 2 \\, r e^{\\left(\\lambda\\left(r, t\\right)\\right)} \\frac{\\partial\\,\\lambda}{\\partial r} - {\\left(r^{2} e^{\\left(\\lambda\\left(r, t\\right)\\right)} \\frac{\\partial\\,\\lambda}{\\partial r} + 2 \\, r e^{\\left(\\lambda\\left(r, t\\right)\\right)}\\right)} \\frac{\\partial\\,\\mu}{\\partial r}\\right)} e^{\\left(-\\lambda\\left(r, t\\right) - \\mu\\left(r, t\\right)\\right)} \\sin\\left({\\theta}\\right)^{2} \\mathrm{d} {\\phi}\\otimes \\mathrm{d} {\\phi}\\)</html>"
      ],
      "text/latex": [
       "$\\displaystyle \\mathrm{Ric}\\left(g\\right)-\\text{unnamed metric} = \\frac{{\\left(r e^{\\left(\\lambda\\left(r, t\\right)\\right)} \\frac{\\partial\\,\\mu}{\\partial r} + e^{\\left(\\lambda\\left(r, t\\right) + \\mu\\left(r, t\\right)\\right)} - e^{\\left(\\lambda\\left(r, t\\right)\\right)}\\right)} e^{\\left(-\\mu\\left(r, t\\right)\\right)}}{r^{2}} \\mathrm{d} t\\otimes \\mathrm{d} t + \\frac{\\frac{\\partial\\,\\mu}{\\partial t}}{r} \\mathrm{d} t\\otimes \\mathrm{d} r + \\frac{\\frac{\\partial\\,\\mu}{\\partial t}}{r} \\mathrm{d} r\\otimes \\mathrm{d} t + \\left( \\frac{r \\frac{\\partial\\,\\lambda}{\\partial r} - e^{\\left(\\mu\\left(r, t\\right)\\right)} + 1}{r^{2}} \\right) \\mathrm{d} r\\otimes \\mathrm{d} r + \\frac{1}{4} \\, {\\left(r^{2} e^{\\left(\\lambda\\left(r, t\\right)\\right)} \\left(\\frac{\\partial\\,\\lambda}{\\partial r}\\right)^{2} + r^{2} e^{\\left(\\mu\\left(r, t\\right)\\right)} \\frac{\\partial\\,\\lambda}{\\partial t} \\frac{\\partial\\,\\mu}{\\partial t} - r^{2} e^{\\left(\\mu\\left(r, t\\right)\\right)} \\frac{\\partial\\,\\mu}{\\partial t}^{2} + 2 \\, r^{2} e^{\\left(\\lambda\\left(r, t\\right)\\right)} \\frac{\\partial^2\\,\\lambda}{\\partial r ^ 2} - 2 \\, r^{2} e^{\\left(\\mu\\left(r, t\\right)\\right)} \\frac{\\partial^2\\,\\mu}{\\partial t ^ 2} + 2 \\, r e^{\\left(\\lambda\\left(r, t\\right)\\right)} \\frac{\\partial\\,\\lambda}{\\partial r} - {\\left(r^{2} e^{\\left(\\lambda\\left(r, t\\right)\\right)} \\frac{\\partial\\,\\lambda}{\\partial r} + 2 \\, r e^{\\left(\\lambda\\left(r, t\\right)\\right)}\\right)} \\frac{\\partial\\,\\mu}{\\partial r}\\right)} e^{\\left(-\\lambda\\left(r, t\\right) - \\mu\\left(r, t\\right)\\right)} \\mathrm{d} {\\theta}\\otimes \\mathrm{d} {\\theta} + \\frac{1}{4} \\, {\\left(r^{2} e^{\\left(\\lambda\\left(r, t\\right)\\right)} \\left(\\frac{\\partial\\,\\lambda}{\\partial r}\\right)^{2} + r^{2} e^{\\left(\\mu\\left(r, t\\right)\\right)} \\frac{\\partial\\,\\lambda}{\\partial t} \\frac{\\partial\\,\\mu}{\\partial t} - r^{2} e^{\\left(\\mu\\left(r, t\\right)\\right)} \\frac{\\partial\\,\\mu}{\\partial t}^{2} + 2 \\, r^{2} e^{\\left(\\lambda\\left(r, t\\right)\\right)} \\frac{\\partial^2\\,\\lambda}{\\partial r ^ 2} - 2 \\, r^{2} e^{\\left(\\mu\\left(r, t\\right)\\right)} \\frac{\\partial^2\\,\\mu}{\\partial t ^ 2} + 2 \\, r e^{\\left(\\lambda\\left(r, t\\right)\\right)} \\frac{\\partial\\,\\lambda}{\\partial r} - {\\left(r^{2} e^{\\left(\\lambda\\left(r, t\\right)\\right)} \\frac{\\partial\\,\\lambda}{\\partial r} + 2 \\, r e^{\\left(\\lambda\\left(r, t\\right)\\right)}\\right)} \\frac{\\partial\\,\\mu}{\\partial r}\\right)} e^{\\left(-\\lambda\\left(r, t\\right) - \\mu\\left(r, t\\right)\\right)} \\sin\\left({\\theta}\\right)^{2} \\mathrm{d} {\\phi}\\otimes \\mathrm{d} {\\phi}$"
      ],
      "text/plain": [
       "Ric(g)-unnamed metric = (r*e^(lambda_(r, t))*d(mu)/dr + e^(lambda_(r, t) + mu(r, t)) - e^(lambda_(r, t)))*e^(-mu(r, t))/r^2 dt⊗dt + d(mu)/dt/r dt⊗dr + d(mu)/dt/r dr⊗dt + (r*d(lambda_)/dr - e^(mu(r, t)) + 1)/r^2 dr⊗dr + 1/4*(r^2*e^(lambda_(r, t))*(d(lambda_)/dr)^2 + r^2*e^(mu(r, t))*d(lambda_)/dt*d(mu)/dt - r^2*e^(mu(r, t))*d(mu)/dt^2 + 2*r^2*e^(lambda_(r, t))*d^2(lambda_)/dr^2 - 2*r^2*e^(mu(r, t))*d^2(mu)/dt^2 + 2*r*e^(lambda_(r, t))*d(lambda_)/dr - (r^2*e^(lambda_(r, t))*d(lambda_)/dr + 2*r*e^(lambda_(r, t)))*d(mu)/dr)*e^(-lambda_(r, t) - mu(r, t)) dth⊗dth + 1/4*(r^2*e^(lambda_(r, t))*(d(lambda_)/dr)^2 + r^2*e^(mu(r, t))*d(lambda_)/dt*d(mu)/dt - r^2*e^(mu(r, t))*d(mu)/dt^2 + 2*r^2*e^(lambda_(r, t))*d^2(lambda_)/dr^2 - 2*r^2*e^(mu(r, t))*d^2(mu)/dt^2 + 2*r*e^(lambda_(r, t))*d(lambda_)/dr - (r^2*e^(lambda_(r, t))*d(lambda_)/dr + 2*r*e^(lambda_(r, t)))*d(mu)/dr)*e^(-lambda_(r, t) - mu(r, t))*sin(th)^2 dph⊗dph"
      ]
     },
     "execution_count": 13,
     "metadata": {
     },
     "output_type": "execute_result"
    }
   ],
   "source": [
    "einstein_tensor = ricci_tensor - (1/2) * g.ricci_scalar() * g\n",
    "einstein_tensor.display()"
   ]
  },
  {
   "cell_type": "code",
   "execution_count": 0,
   "metadata": {
    "collapsed": false
   },
   "outputs": [
   ],
   "source": [
   ]
  },
  {
   "cell_type": "code",
   "execution_count": 0,
   "metadata": {
    "collapsed": false
   },
   "outputs": [
   ],
   "source": [
   ]
  },
  {
   "cell_type": "code",
   "execution_count": 0,
   "metadata": {
    "collapsed": false
   },
   "outputs": [
   ],
   "source": [
   ]
  }
 ],
 "metadata": {
  "kernelspec": {
   "argv": [
    "sage-10.1",
    "--python",
    "-m",
    "sage.repl.ipython_kernel",
    "--matplotlib=inline",
    "-f",
    "{connection_file}"
   ],
   "display_name": "SageMath 10.1",
   "env": {
   },
   "language": "sagemath",
   "metadata": {
    "cocalc": {
     "description": "Open-source mathematical software system",
     "priority": 10,
     "url": "https://www.sagemath.org/"
    }
   },
   "name": "sage-10.1",
   "resource_dir": "/ext/jupyter/kernels/sage-10.1"
  },
  "language_info": {
   "codemirror_mode": {
    "name": "ipython",
    "version": 3
   },
   "file_extension": ".py",
   "mimetype": "text/x-python",
   "name": "python",
   "nbconvert_exporter": "python",
   "pygments_lexer": "ipython3",
   "version": "3.11.1"
  }
 },
 "nbformat": 4,
 "nbformat_minor": 4
}